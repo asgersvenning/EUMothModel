{
 "cells": [
  {
   "cell_type": "markdown",
   "metadata": {},
   "source": [
    "# Setup\n",
    "## Import modules"
   ]
  },
  {
   "cell_type": "code",
   "execution_count": 8,
   "metadata": {},
   "outputs": [
    {
     "name": "stderr",
     "output_type": "stream",
     "text": [
      "/home/ucloud/.local/lib/python3.8/site-packages/torchvision/models/_utils.py:208: UserWarning: The parameter 'pretrained' is deprecated since 0.13 and may be removed in the future, please use 'weights' instead.\n",
      "  warnings.warn(\n",
      "/home/ucloud/.local/lib/python3.8/site-packages/torchvision/models/_utils.py:223: UserWarning: Arguments other than a weight enum or `None` for 'weights' are deprecated since 0.13 and may be removed in the future. The current behavior is equivalent to passing `weights=ResNet50_Weights.IMAGENET1K_V1`. You can also use `weights=ResNet50_Weights.DEFAULT` to get the most up-to-date weights.\n",
      "  warnings.warn(msg)\n"
     ]
    }
   ],
   "source": [
    "import torchvision\n",
    "test = torchvision.models.resnet50(pretrained=True)"
   ]
  },
  {
   "cell_type": "code",
   "execution_count": 1,
   "metadata": {},
   "outputs": [],
   "source": [
    "import torch\n",
    "import torch.nn as nn\n",
    "import torch.nn.functional as F\n",
    "import torch.optim as optim\n",
    "import torchvision\n",
    "import torchvision.transforms as transforms\n",
    "from torchvision.io import read_image\n",
    "from torch.utils.data import Dataset, DataLoader\n",
    "\n",
    "import matplotlib.pyplot as plt\n",
    "import matplotlib.cm as cm\n",
    "import numpy as np\n",
    "from math import sqrt, ceil\n",
    "import sys\n",
    "from tqdm import tqdm\n",
    "\n",
    "# Import YOLOv5 helper functions\n",
    "sys.path.append('/home/ucloud/EUMothModel')\n",
    "from tutils.yolo_helpers import box_iou, xywh2xyxy, non_max_suppression\n",
    "from tutils.implicit_mount import *\n",
    "from tutils.dataloader import *\n",
    "\n",
    "from tensorboardX import SummaryWriter\n",
    "\n",
    "backend = None"
   ]
  },
  {
   "cell_type": "markdown",
   "metadata": {},
   "source": [
    "## Setup environment"
   ]
  },
  {
   "cell_type": "code",
   "execution_count": 2,
   "metadata": {},
   "outputs": [],
   "source": [
    "# def class_counting(paths, class_handles):\n",
    "#     \"\"\"\n",
    "#     Count the number of each class in the labels\n",
    "#     \"\"\"\n",
    "#     class_count = [torch.zeros(n) for n in class_handles[\"n_classes\"]]\n",
    "#     for path in paths:\n",
    "#         for ctype, cls in enumerate(path.split(\"/\")[2::-1]):\n",
    "#             class_count[ctype][class_handles[\"class_to_idx\"][ctype][cls]] += 1\n",
    "#     return class_count\n",
    "\n",
    "from collections import Counter\n",
    "\n",
    "def class_counting(paths, class_handles):\n",
    "    \"\"\"\n",
    "    Count the number of each class in the labels\n",
    "    \"\"\"\n",
    "    counts = [Counter() for _ in class_handles[\"n_classes\"]]\n",
    "    for path in paths:\n",
    "        components = path.split(\"/\")[2::-1]\n",
    "        for ctype, cls in enumerate(components):\n",
    "            counts[ctype][class_handles[\"class_to_idx\"][ctype][cls]] += 1\n",
    "\n",
    "    # Convert to NumPy arrays\n",
    "    counts = [np.array(list(counter.values())) for counter in counts]\n",
    "\n",
    "    return counts"
   ]
  },
  {
   "cell_type": "code",
   "execution_count": 3,
   "metadata": {},
   "outputs": [],
   "source": [
    "def create_hierarchy(paths, class_handles):\n",
    "    \"\"\"\n",
    "    Create a hierarchy of classes\n",
    "    \"\"\"\n",
    "    hierarchy = [[[]] * n for i, n in enumerate(class_handles[\"n_classes\"]) if i != 0]  # Create empty lists for each level\n",
    "    processed_leaves = [0] * class_handles[\"n_classes\"][0]  # Keep track of which leaves have been processed\n",
    "\n",
    "    for path in paths:\n",
    "        components = path.split(\"/\")[2::-1]\n",
    "        indices = [class_handles[\"class_to_idx\"][ctype][cls] for ctype, cls in enumerate(components)]\n",
    "        # print(indices)\n",
    "        if processed_leaves[indices[0]] == 0:  # If the leaf has not been processed yet\n",
    "            processed_leaves[indices[0]] = 1\n",
    "        else:\n",
    "            continue  # Skip this leaf\n",
    "\n",
    "        for i in range(1, len(indices)):\n",
    "            i -= 1\n",
    "            parent = indices[i + 1]\n",
    "            child = indices[i]\n",
    "            \n",
    "            if not hierarchy[i][parent]:\n",
    "                hierarchy[i][parent] = [child]\n",
    "            else:\n",
    "                hierarchy[i][parent].append(child)  # Append the child to the parent's list\n",
    "    \n",
    "    for i in range(1, len(hierarchy)):\n",
    "        for j in range(len(hierarchy[i])):\n",
    "            hierarchy[i][j] = list(set(hierarchy[i][j]))\n",
    "\n",
    "    return hierarchy\n",
    "\n",
    "def create_mask(indices, s, **kwargs):\n",
    "    t = torch.zeros(s, **kwargs, requires_grad=False)\n",
    "    t -= 100\n",
    "    t[indices] = 0\n",
    "    return t\n",
    "\n",
    "def mask_hierarchy(hierarchy, **kwargs):\n",
    "    \"\"\"\n",
    "    Create a mask for each level of the hierarchy.\n",
    "    \"\"\"\n",
    "    masks = []\n",
    "    for level in hierarchy:\n",
    "        n = sum([len(indices) for indices in level])\n",
    "        masks.append([create_mask(indices, n, **kwargs) for indices in level])\n",
    "\n",
    "    return [torch.stack(level) for level in masks]\n",
    "\n",
    "def create_random_P(n_classes, **kwargs):\n",
    "    \"\"\"\n",
    "    Create a random P matrix for testing with the given number of classes at each level.\n",
    "    \"\"\"\n",
    "    P = [None] * len(n_classes)\n",
    "    P[0] = torch.rand(n_classes[0], **kwargs)  # Create a random P matrix for the leaf level\n",
    "    P[0] = F.log_softmax(P[0], dim=-1)  # Normalize along class dimension\n",
    "    for i, n in enumerate(n_classes):\n",
    "        if i == 0:\n",
    "            continue\n",
    "        P[i] = P[i-1] * masks[i-1]  # Multiply by the mask of the previous level\n",
    "        P[i] = torch.logsumexp(P[i], dim=-1)\n",
    "\n",
    "    return P\n",
    "\n",
    "def correctness_score(P, logits=False):\n",
    "    \"\"\"\n",
    "    Compute the correctness score of the hierarchy, taking batch dimension into account.\n",
    "    \"\"\"\n",
    "    global masks\n",
    "    if P[0].shape[0] == 1:\n",
    "        P = [p.squeeze(0) for p in P]  # Remove batch dimension\n",
    "    batched = len(P[0].shape) != 1  # Check if P is batched\n",
    "    bs = 1 if batched else P[0].shape[0]  # Get the batch size\n",
    "    correctness = torch.ones(bs, dtype=P[0].dtype, device=P[0].device)  # [batch_size]\n",
    "    if batched:\n",
    "        correctness = correctness.unsqueeze(0)  # [1, batch_size]\n",
    "\n",
    "    for i, mask in enumerate(masks):\n",
    "        if batched:\n",
    "            probs = P[i]  # Assuming P has shape [batch_size, num_masks, num_classes]\n",
    "        else:\n",
    "            probs = P[i].unsqueeze(0)  # Assuming P has shape [num_masks, num_classes]\n",
    "\n",
    "        if logits:\n",
    "            # probs = torch.exp(probs - torch.logsumexp(probs, dim=1, keepdim=True))\n",
    "            probs = F.softmax(probs, dim=1)\n",
    "            probs = probs / torch.sum(probs, dim=1, keepdim=True)  # Normalize along class dimension\n",
    "        else:\n",
    "            probs = probs / torch.sum(probs, dim=1, keepdim=True)\n",
    "\n",
    "        correctness = torch.matmul(probs * correctness, mask.T)\n",
    "\n",
    "    return correctness.sum(dim=1).mean().to(P[0].dtype)  # Average over the batch"
   ]
  },
  {
   "cell_type": "code",
   "execution_count": 4,
   "metadata": {},
   "outputs": [
    {
     "data": {
      "image/png": "[encoded data removed]",
      "text/plain": [
       "<Figure size 720x720 with 3 Axes>"
      ]
     },
     "metadata": {
      "needs_background": "light"
     },
     "output_type": "display_data"
    }
   ],
   "source": [
    "tmasks = mask_hierarchy([[[0, 1, 2], [3, 4, 5], [6, 7, 8], [9, 10, 11]],[[0,1], [2,3]]], dtype=torch.long)\n",
    "\n",
    "tleaf_logits = torch.tensor([[i for i in range(12)],[11 - i for i in range(12)]]).float()\n",
    "\n",
    "ty0 = F.log_softmax(tleaf_logits[0].unsqueeze(0), dim=1)\n",
    "\n",
    "# Hierarchical aggregation\n",
    "# For level 1\n",
    "ty1 = torch.logsumexp(ty0.unsqueeze(2) + tmasks[0].T, dim=1)\n",
    "\n",
    "# For level 2\n",
    "ty2 = torch.logsumexp(ty1.unsqueeze(2) + tmasks[1].T, dim=1)\n",
    "\n",
    "tps = [ty0.exp(), ty1.exp(), ty2.exp()]\n",
    "fig, axs = plt.subplots(3, 1, figsize=(10, 10))\n",
    "for i, ax in enumerate(axs.ravel()):\n",
    "    tp = tps[i]\n",
    "    ax.plot(np.linspace(0,1,tp.shape[1]), tp.squeeze().numpy())\n",
    "    ax.set_title(f\"Level {i}\")\n",
    "    ax.set_xlabel(\"Class\")\n",
    "    ax.set_ylabel(\"Probability\")\n",
    "    ax.set_ylim(0, 1)\n",
    "    ax.grid()\n",
    "plt.tight_layout()\n",
    "plt.show()\n"
   ]
  },
  {
   "cell_type": "markdown",
   "metadata": {},
   "source": [
    "## Helpers"
   ]
  },
  {
   "cell_type": "code",
   "execution_count": 5,
   "metadata": {},
   "outputs": [],
   "source": [
    "# test_cs = []\n",
    "# css = []\n",
    "\n",
    "# for cs in range(1000):\n",
    "#     correct_P = [torch.zeros(10, n).to(device=device,dtype=dtype) for n in num_classes]\n",
    "#     test_species = [i.item() for i in torch.randint(0, num_classes[0], (10, )).to(dtype=torch.long)]\n",
    "#     test_genera = [torch.where(masks[0][:,i] == 1)[0].item() for i in test_species]\n",
    "#     test_family = [torch.where(masks[1][:,i] == 1)[0].item() for i in test_genera]\n",
    "#     for i, (s, g, f) in enumerate(zip(test_species, test_genera, test_family)):\n",
    "#         # print(i, s, g, f)\n",
    "#         correct_P[0][i,s] = 1\n",
    "#         correct_P[1][i,g] = 1\n",
    "#         correct_P[2][i,f] = 1\n",
    "\n",
    "#     r = cs / 1000\n",
    "    \n",
    "#     for i, p in enumerate(correct_P):\n",
    "#         correct_P[i] = p * (1 - r) + r * torch.rand_like(p)\n",
    "\n",
    "#     test_cs += [correctness_score(correct_P, logits=False)]\n",
    "#     css += [torch.tensor(r)]\n",
    "\n",
    "# test_cs = torch.stack(test_cs)\n",
    "# css = torch.stack(css)"
   ]
  },
  {
   "cell_type": "code",
   "execution_count": 6,
   "metadata": {},
   "outputs": [],
   "source": [
    "# import seaborn as sns\n",
    "# from matplotlib import gridspec\n",
    "\n",
    "# # Create three subplots, each with its y-axis, to plot the counts of the classes in each hierarchy level (species, genus, family)\n",
    "# fig, axs = plt.subplots(1, 3, sharey=False, figsize=(15, 5))\n",
    "# grid = gridspec.GridSpec(1, 3, wspace=0.25, hspace=0.15)\n",
    "\n",
    "# # Plot the counts of the classes in each hierarchy level (species, genus, family) in a log10-scale\n",
    "# for i in range(3):\n",
    "#     ax = axs[i]\n",
    "#     counts = (test[i].numpy() + 1)\n",
    "#     counts.sort()\n",
    "#     sns.barplot(ax=ax, x=full_dataset.classes[i], y=counts, width=1)\n",
    "#     ax.set_title([\"Species\", \"Genus\", \"Family\"][i])\n",
    "#     if i == 0:\n",
    "#         ax.set_ylabel(\"Count\")\n",
    "#     ax.set_yscale(\"log\")  # Set the y-axis to log scale\n",
    "#     ax.xaxis.set_visible(False)\n",
    "#     ax.axes.get_xaxis().set_ticks([])\n",
    "\n",
    "# # Save the figure\n",
    "# plt.savefig(\"../plots/class_counts_logscale.png\", dpi=300, facecolor=\"white\", bbox_inches=\"tight\", pad_inches=0.1)\n",
    "# plt.close()"
   ]
  },
  {
   "cell_type": "code",
   "execution_count": 7,
   "metadata": {},
   "outputs": [
    {
     "name": "stdout",
     "output_type": "stream",
     "text": [
      "Connected to sftp://asgersvenning%40ecos.au.dk:@io.erda.au.dk:2222\n",
      "Local directory: /tmp/tmpua_4itdl\n",
      "IOHandler.start() is unsafe. Use IOHandler.__enter__() instead if possible.\n",
      "OBS: Remember to call IOHandler.stop() when you are done.\n"
     ]
    }
   ],
   "source": [
    "# weights = torchvision.models.EfficientNet_V2_S_Weights.DEFAULT\n",
    "weights = torchvision.models.EfficientNet_B0_Weights.DEFAULT\n",
    "class create_image_preprocessing:\n",
    "    def __init__(self, weights):\n",
    "        self.transform = weights.transforms.func(crop_size=256)\n",
    "        self.isize = self.transform.resize_size[0]\n",
    "        self.mean = self.transform.mean\n",
    "        self.std = self.transform.std\n",
    "\n",
    "    def __call__(self, images):\n",
    "        \"\"\"Preprocess images for EfficientNet.\"\"\"\n",
    "        images = torchvision.transforms.Resize((self.isize, self.isize), antialias=True)(images)\n",
    "        return self.transform(images)\n",
    "\n",
    "image_preprocessing = create_image_preprocessing(weights)\n",
    "\n",
    "def denormalize(tensor, mean=image_preprocessing.mean, std=image_preprocessing.std):\n",
    "    \"\"\"Denormalize a tensor.\"\"\"\n",
    "    mean = torch.tensor(mean).view(1, 3, 1, 1).to(torch.float32)\n",
    "    std = torch.tensor(std).view(1, 3, 1, 1).to(torch.float32)\n",
    "    return tensor.cpu().to(torch.float32) * std + mean\n",
    "\n",
    "## Hyperparameters\n",
    "skip = 0 # Number of batches to skip (used to resume script from a specific batch)\n",
    "batch_size = 128 # Batch size for chunked loading of images\n",
    "device = torch.device(\"cuda:0\" if torch.cuda.is_available() else \"cpu\")\n",
    "dtype=torch.bfloat16\n",
    "real_class_index = 0 # The real class index of the species to fine-tune on (6 for the initial model; insectGBIF-1280m6.pt)\n",
    "inference_size = 640 # The size of the images to run inference on (1280 for the initial model; insectGBIF-1280m6.pt)\n",
    "\n",
    "# ERDA data transfer setup\n",
    "if backend is not None:\n",
    "    backend.stop()\n",
    "backend = IOHandler(verbose = False, clean=True)\n",
    "backend.start()\n",
    "backend.cd(\"AMI_GBIF_Pretraining_Data/rebalanced75_without_larvae\")\n",
    "backend.cache_file_index(skip=skip)\n",
    "\n",
    "# Dataset and dataloader setup\n",
    "# Dataset and dataloader setup\n",
    "remote_iterator = RemotePathIterator(\n",
    "        backend,\n",
    "        batch_size=32,\n",
    "        max_queued_batches=5,\n",
    "        n_local_files=5*32*2,\n",
    "    )\n",
    "\n",
    "full_dataset = RemotePathDataset(\n",
    "    remote_iterator,\n",
    "    prefetch=1*batch_size,\n",
    "    transform=image_preprocessing,\n",
    "    # device=device, \n",
    "    dtype=dtype, \n",
    "    hierarchical=True,\n",
    "    return_remote_path=False,\n",
    "    return_local_path=True,\n",
    "    verbose=False\n",
    ")\n",
    "\n",
    "class_counts = class_counting(full_dataset.remote_path_iterator.remote_paths, full_dataset.class_handles)\n",
    "hierarchy = create_hierarchy(full_dataset.remote_path_iterator.remote_paths, full_dataset.class_handles)\n",
    "masks = mask_hierarchy(hierarchy, device=device, dtype=dtype)\n",
    "\n",
    "ri_train, ri_val, ri_test = remote_iterator.split(proportion=[0.05, 0.05, 0.9])\n",
    "datasets = [RemotePathDataset(\n",
    "    ri,\n",
    "    prefetch=3*batch_size,\n",
    "    transform=image_preprocessing,\n",
    "    # device=device, \n",
    "    dtype=dtype,\n",
    "    hierarchical=True,\n",
    "    return_remote_path=False,\n",
    "    return_local_path=True,\n",
    "    verbose=False\n",
    ") for ri in [ri_train, ri_val, ri_test]]\n",
    "datasets[0].class_handles = full_dataset.class_handles\n",
    "datasets[1].class_handles = full_dataset.class_handles\n",
    "datasets[2].class_handles = full_dataset.class_handles\n",
    "train, val, test = [CustomDataLoader(dataset=dataset, batch_size=batch_size, shuffle=True, num_workers=8) for dataset in datasets]\n",
    "\n",
    "lengths = [len(dataset) for dataset in datasets]"
   ]
  },
  {
   "cell_type": "code",
   "execution_count": 8,
   "metadata": {},
   "outputs": [
    {
     "data": {
      "image/png": "[encoded data removed]",
      "text/plain": [
       "<Figure size 1080x360 with 3 Axes>"
      ]
     },
     "metadata": {
      "needs_background": "light"
     },
     "output_type": "display_data"
    }
   ],
   "source": [
    "fig, axs = plt.subplots(1, 3, figsize=(15, 5))\n",
    "\n",
    "for i, ax in enumerate(axs.ravel()):\n",
    "    counts = class_counts[i]\n",
    "    ax.hist(counts + 100, bins=10 ** np.arange(2, int(np.ceil(np.log10(counts.max()))), step=0.25), rwidth=0.9, align=\"left\", log=True)\n",
    "    ax.set_xscale(\"log\")\n",
    "    ax.set_xticks([10**i for i in range(2, int(np.ceil(np.log10(counts.max()))))])\n",
    "    ax.set_xticklabels([\">100\" if i == 2 else f\"10^{i}\" for i in range(2, int(np.ceil(np.log10(counts.max()))))])\n",
    "\n",
    "plt.tight_layout()\n",
    "plt.show()"
   ]
  },
  {
   "cell_type": "markdown",
   "metadata": {},
   "source": [
    "## Define model"
   ]
  },
  {
   "cell_type": "code",
   "execution_count": 9,
   "metadata": {},
   "outputs": [
    {
     "data": {
      "text/plain": [
       "tensor([ 3.0156,  5.0000,  1.0000,  2.0000,  1.0000,  1.0000,  5.9688,  1.0000,\n",
       "         1.0000,  1.0000,  1.0000, 14.9375,  3.0156,  2.0000,  2.0000,  1.0000,\n",
       "         3.9844,  2.0000,  1.0000,  3.9844,  1.0000,  1.0000,  1.0000,  5.0000,\n",
       "         1.0000, 18.0000, 21.0000,  1.0000,  3.0156,  3.0156,  1.0000,  2.0000,\n",
       "         2.0000,  5.9688,  3.0156,  3.9844,  1.0000,  3.9844,  9.9375,  1.0000,\n",
       "         1.0000,  9.0625,  1.0000,  1.0000,  1.0000,  1.0000,  2.0000,  2.0000,\n",
       "         1.0000,  1.0000,  2.0000,  1.0000,  2.0000, 23.8750,  1.0000,  1.0000,\n",
       "         1.0000,  1.0000,  5.9688,  1.0000,  1.0000,  1.0000,  1.0000,  5.9688,\n",
       "         1.0000,  1.0000,  2.0000,  2.0000,  9.9375,  1.0000,  1.0000,  1.0000,\n",
       "         1.0000,  1.0000,  1.0000,  3.0156,  1.0000,  3.0156,  1.0000,  2.0000,\n",
       "         3.0156,  5.0000,  1.0000,  1.0000,  3.9844,  1.0000,  1.0000,  9.0625,\n",
       "         3.0156,  2.0000,  1.0000,  1.0000,  1.0000, 12.9375,  1.0000,  3.9844,\n",
       "         1.0000,  1.0000,  1.0000,  1.0000,  1.0000,  2.0000,  1.0000,  1.0000,\n",
       "         2.0000, 12.0000,  1.0000,  1.0000,  2.0000,  2.0000,  1.0000,  1.0000,\n",
       "         3.0156,  2.0000,  1.0000,  5.0000,  1.0000,  1.0000,  1.0000,  3.9844,\n",
       "         1.0000, 26.2500,  2.0000,  2.0000,  2.0000,  3.0156,  5.9688,  1.0000,\n",
       "        27.0000,  1.0000,  1.0000,  1.0000,  1.0000,  1.0000,  3.0156,  2.0000,\n",
       "         3.0156,  1.0000, 16.8750,  3.0156,  1.0000, 14.9375,  1.0000, 14.0000,\n",
       "         5.0000,  3.0156,  2.0000,  1.0000,  3.0156,  2.0000,  1.0000,  1.0000,\n",
       "         2.0000,  1.0000,  3.0156,  2.0000,  1.0000,  5.0000,  1.0000,  1.0000,\n",
       "         2.0000,  3.9844,  1.0000,  1.0000,  2.0000,  1.0000,  1.0000, 10.9375,\n",
       "         1.0000,  2.0000,  2.0000,  2.0000,  3.9844, 14.9375,  1.0000,  1.0000,\n",
       "         1.0000,  3.0156,  5.0000,  1.0000,  1.0000,  2.0000,  2.0000,  7.0000,\n",
       "         3.9844,  7.0000,  1.0000,  1.0000,  2.0000, 35.2500,  1.0000, 14.9375,\n",
       "         1.0000,  2.0000,  1.0000,  1.0000,  1.0000,  1.0000,  3.0156,  1.0000,\n",
       "         3.9844,  1.0000,  2.0000,  5.0000,  7.0000,  9.9375,  2.0000,  1.0000,\n",
       "         1.0000,  1.0000,  1.0000,  1.0000,  1.0000,  1.0000,  1.0000,  2.0000,\n",
       "         2.0000,  5.0000,  1.0000,  3.9844,  1.0000,  2.0000,  9.9375,  2.0000,\n",
       "         2.0000,  5.0000,  3.9844,  1.0000,  2.0000,  2.0000, 15.8750,  2.0000,\n",
       "         1.0000,  1.0000,  1.0000,  5.9688,  1.0000,  1.0000,  1.0000,  2.0000,\n",
       "         1.0000,  1.0000,  7.0000,  9.0625,  1.0000,  1.0000,  1.0000,  2.0000,\n",
       "         1.0000,  3.0156,  1.0000,  8.0000,  3.9844,  1.0000,  5.0000,  2.0000,\n",
       "         1.0000,  1.0000,  3.0156,  1.0000,  5.0000, 18.0000,  2.0000,  7.0000,\n",
       "         1.0000,  3.0156,  1.0000,  1.0000,  3.9844,  1.0000,  5.9688,  3.0156,\n",
       "         2.0000,  5.9688, 93.0000,  3.0156,  1.0000,  1.0000,  1.0000,  1.0000,\n",
       "         1.0000,  2.0000,  1.0000, 23.1250,  1.0000,  1.0000,  1.0000,  1.0000,\n",
       "         1.0000,  5.0000,  1.0000,  2.0000,  3.0156,  1.0000,  1.0000,  1.0000,\n",
       "         1.0000,  2.0000,  2.0000,  3.0156,  1.0000,  1.0000,  3.9844,  5.0000,\n",
       "         1.0000,  2.0000,  1.0000,  1.0000,  1.0000,  2.0000,  1.0000,  1.0000,\n",
       "         1.0000,  1.0000, 25.0000,  2.0000,  1.0000,  1.0000,  5.9688,  1.0000,\n",
       "         1.0000,  1.0000,  7.0000,  1.0000,  3.0156,  2.0000,  1.0000,  1.0000,\n",
       "         1.0000,  3.9844,  1.0000,  2.0000,  1.0000,  1.0000,  1.0000,  1.0000,\n",
       "         1.0000,  1.0000,  5.9688,  8.0000,  1.0000,  1.0000,  3.9844,  2.0000,\n",
       "         3.0156,  3.0156,  7.0000,  8.0000,  1.0000,  1.0000,  2.0000,  1.0000,\n",
       "         1.0000,  1.0000, 99.0000,  1.0000,  3.0156,  9.9375,  1.0000,  1.0000,\n",
       "         1.0000,  1.0000,  2.0000,  5.9688,  2.0000,  2.0000,  9.0625,  1.0000,\n",
       "         2.0000,  1.0000,  3.0156,  5.0000,  5.9688,  1.0000,  1.0000,  5.0000,\n",
       "         1.0000,  7.0000,  3.9844,  1.0000,  1.0000,  1.0000,  1.0000,  1.0000,\n",
       "         9.9375,  2.0000,  5.0000,  1.0000,  1.0000,  3.0156,  3.0156,  1.0000,\n",
       "         1.0000,  1.0000,  5.0000,  8.0000,  3.0156,  7.0000,  3.0156,  3.9844,\n",
       "         8.0000,  1.0000,  1.0000,  1.0000,  2.0000,  1.0000,  3.9844,  1.0000,\n",
       "         1.0000,  1.0000,  1.0000,  1.0000,  1.0000,  3.9844,  2.0000,  2.0000,\n",
       "         8.0000,  3.0156,  2.0000,  1.0000,  1.0000,  3.0156,  3.0156,  1.0000,\n",
       "         3.0156,  1.0000,  1.0000,  1.0000,  1.0000,  1.0000, 10.9375,  1.0000,\n",
       "         1.0000,  1.0000,  2.0000, 25.0000,  1.0000,  3.9844,  9.0625,  1.0000,\n",
       "         1.0000,  1.0000,  1.0000, 12.9375,  1.0000, 14.0000,  1.0000,  2.0000,\n",
       "         3.0156,  1.0000,  5.9688,  7.0000,  3.0156,  1.0000,  1.0000,  3.0156,\n",
       "         2.0000,  3.0156,  1.0000,  2.0000,  1.0000,  1.0000,  1.0000,  2.0000,\n",
       "         3.9844,  2.0000,  2.0000,  3.0156,  1.0000,  1.0000,  2.0000,  1.0000,\n",
       "         1.0000,  1.0000,  1.0000,  2.0000,  8.0000,  1.0000,  1.0000,  2.0000,\n",
       "         9.9375,  2.0000,  1.0000,  2.0000,  1.0000,  1.0000,  3.0156,  1.0000,\n",
       "         1.0000,  2.0000,  2.0000,  1.0000,  1.0000,  1.0000,  1.0000,  1.0000,\n",
       "         1.0000,  1.0000,  1.0000,  1.0000,  1.0000,  1.0000,  1.0000,  3.0156,\n",
       "         1.0000,  2.0000,  1.0000,  1.0000,  1.0000,  2.0000,  2.0000,  1.0000,\n",
       "         3.0156,  3.0156,  1.0000,  2.0000,  3.0156,  1.0000,  2.0000,  5.0000,\n",
       "         1.0000,  1.0000,  5.0000,  1.0000, 14.0000,  1.0000,  2.0000,  3.9844,\n",
       "         2.0000,  2.0000,  1.0000,  1.0000,  1.0000,  2.0000,  3.0156,  7.0000,\n",
       "         1.0000,  1.0000,  1.0000,  9.9375,  5.9688,  2.0000,  1.0000,  1.0000,\n",
       "         2.0000,  1.0000,  2.0000,  1.0000,  3.0156,  1.0000,  2.0000,  5.0000,\n",
       "         1.0000, 14.9375,  1.0000,  2.0000,  2.0000,  1.0000,  1.0000,  1.0000,\n",
       "         1.0000,  1.0000,  1.0000,  1.0000,  2.0000,  1.0000,  2.0000,  1.0000,\n",
       "         1.0000,  1.0000,  1.0000,  3.9844,  1.0000,  1.0000,  1.0000,  1.0000,\n",
       "         1.0000,  3.0156,  1.0000,  2.0000,  1.0000,  1.0000,  1.0000,  3.9844,\n",
       "         3.0156,  1.0000,  1.0000,  1.0000,  1.0000,  1.0000,  1.0000,  2.0000,\n",
       "         7.0000,  1.0000,  5.9688,  2.0000,  5.0000,  1.0000,  1.0000,  1.0000,\n",
       "         2.0000,  1.0000,  1.0000,  2.0000,  2.0000,  3.9844,  2.0000,  2.0000,\n",
       "         3.9844,  2.0000,  1.0000, 32.0000,  1.0000, 14.0000,  1.0000,  2.0000,\n",
       "         5.0000,  1.0000,  2.0000,  3.0156,  3.0156,  2.0000,  1.0000,  5.0000,\n",
       "         1.0000,  1.0000,  1.0000,  2.0000,  1.0000,  3.0156,  1.0000,  1.0000,\n",
       "         3.0156,  1.0000,  9.9375,  3.0156,  1.0000,  3.9844,  1.0000,  1.0000,\n",
       "         3.9844,  3.9844,  1.0000,  1.0000,  1.0000,  1.0000,  3.9844,  8.0000,\n",
       "        23.1250,  7.0000,  1.0000,  1.0000,  1.0000,  1.0000,  2.0000,  8.0000,\n",
       "         2.0000,  1.0000,  1.0000,  1.0000,  5.9688,  9.0625,  1.0000,  1.0000,\n",
       "         1.0000,  2.0000,  2.0000,  3.0156,  1.0000,  2.0000,  3.0156,  5.0000,\n",
       "         2.0000,  1.0000,  1.0000,  1.0000,  3.9844,  1.0000,  2.0000,  3.0156,\n",
       "         3.0156,  2.0000,  1.0000,  1.0000,  1.0000,  1.0000,  1.0000,  1.0000,\n",
       "         2.0000,  1.0000,  2.0000,  1.0000,  3.0156,  1.0000,  5.0000,  1.0000,\n",
       "        18.0000,  2.0000, 34.2500,  2.0000,  3.0156,  1.0000,  2.0000,  2.0000,\n",
       "         1.0000,  2.0000,  1.0000,  1.0000,  2.0000, 30.1250], device='cuda:0',\n",
       "       dtype=torch.bfloat16)"
      ]
     },
     "execution_count": 9,
     "metadata": {},
     "output_type": "execute_result"
    }
   ],
   "source": [
    "torch.logsumexp(masks[0].T, dim=0).exp()"
   ]
  },
  {
   "cell_type": "code",
   "execution_count": 10,
   "metadata": {},
   "outputs": [
    {
     "data": {
      "image/png": "[encoded data removed]",
      "text/plain": [
       "<Figure size 720x720 with 1 Axes>"
      ]
     },
     "metadata": {
      "needs_background": "light"
     },
     "output_type": "display_data"
    }
   ],
   "source": [
    "plt.figure(figsize=(10, 10))\n",
    "# Set aspect ratio to 1\n",
    "plt.imshow(masks[0].cpu().float().exp())\n",
    "plt.gca().set_aspect(masks[0].shape[1] / masks[0].shape[0])\n",
    "plt.tight_layout()"
   ]
  },
  {
   "cell_type": "code",
   "execution_count": 29,
   "metadata": {},
   "outputs": [],
   "source": [
    "# Model definition\n",
    "model = torchvision.models.efficientnet_b0(weights=None).half().train(False)\n",
    "num_features = [k for k in [j for j in [i for i in model.children()][0].children()][-1].children()][0].out_channels\n",
    "num_classes = datasets[0].n_classes\n",
    "\n",
    "class HierarchicalClassifier(nn.Module):\n",
    "    def __init__(self, num_features, num_classes, masks):\n",
    "        super(HierarchicalClassifier, self).__init__()\n",
    "        self.silu = nn.SiLU()\n",
    "        self.dropout1 = nn.Dropout(0.2)\n",
    "        self.bn1 = nn.BatchNorm1d(num_features, device=device, dtype=dtype)\n",
    "        self.linear1 = nn.Linear(num_features, 1024, device=device, dtype=dtype)\n",
    "        self.bn2 = nn.BatchNorm1d(1024, device=device, dtype=dtype)\n",
    "        self.dropout2 = nn.Dropout(0.1)\n",
    "        self.linear2 = nn.Linear(1024, 1024, device=device, dtype=dtype)\n",
    "        self.bn3 = nn.BatchNorm1d(1024, device=device, dtype=dtype)\n",
    "        self.dropout3 = nn.Dropout(0.1)\n",
    "        self.linear3 = nn.Linear(1024, 512, device=device, dtype=dtype)\n",
    "        self.bn4 = nn.BatchNorm1d(512, device=device, dtype=dtype)\n",
    "        self.dropout4 = nn.Dropout(0.1)\n",
    "        # self.linear_logits = [nn.Linear(512, ncls, device=device, dtype=dtype) for ncls in num_classes]\n",
    "        self.leaf_logits = nn.Linear(512, num_classes[0], device=device, dtype=dtype)\n",
    "        self.bn5 = nn.BatchNorm1d(num_classes[0], device=device, dtype=dtype)\n",
    "        self.masks = masks.copy()\n",
    "        \n",
    "    def forward(self, x):\n",
    "        x = self.dropout1(x)\n",
    "        x = self.bn1(x)\n",
    "        x = self.linear1(x)\n",
    "        x = self.bn2(x)\n",
    "        x = self.silu(x)\n",
    "        x = self.dropout2(x)\n",
    "        x = self.linear2(x)\n",
    "        x = self.bn3(x)\n",
    "        x = self.silu(x)\n",
    "        x = self.dropout3(x)\n",
    "        x = self.linear3(x)\n",
    "        x = self.bn4(x)\n",
    "        x = self.silu(x)\n",
    "        x = self.dropout4(x)\n",
    "        x = self.leaf_logits(x)\n",
    "        y = self.bn5(x)\n",
    "        y0 = F.log_softmax(y, dim = 1)\n",
    "        y1 = F.log_softmax(torch.logsumexp(y0.unsqueeze(2) + self.masks[0].T, dim = 1), dim = 1)\n",
    "        y2 = F.log_softmax(torch.logsumexp(y1.unsqueeze(2) + self.masks[1].T, dim = 1), dim = 1)\n",
    "        return [y0, y1, y2]\n",
    "        # return [linear(x) for linear in self.linear_logits]\n",
    "\n",
    "model.to(device=device, dtype=dtype)\n",
    "# # Freeze backbone\n",
    "# model.features.requires_grad_(True)\n",
    "# for layer in model.features.children():\n",
    "#     if isinstance(layer, nn.BatchNorm2d):\n",
    "#         layer.train(True)\n",
    "model.classifier = HierarchicalClassifier(num_features, num_classes, masks)\n",
    "model.eval()\n",
    "pass"
   ]
  },
  {
   "cell_type": "code",
   "execution_count": 12,
   "metadata": {},
   "outputs": [],
   "source": [
    "# import statsmodels.api as sm\n",
    "# import pandas as pd\n",
    "\n",
    "# # Assuming class_counts[0] and pred[0][0].exp().float().cpu().numpy() are your data\n",
    "# x_data = class_counts[0]  # Replace with your data\n",
    "# y_data = pred[0][0].exp().float().cpu().numpy()  # Replace with your data\n",
    "\n",
    "# # Fit Poisson regression as before\n",
    "# x_with_const = sm.add_constant(np.log(x_data))\n",
    "# poisson_model = sm.GLM(y_data, x_with_const, family=sm.families.Poisson())\n",
    "# poisson_results = poisson_model.fit()\n",
    "# x_vals = np.linspace(min(np.log(x_data)), max(np.log(x_data)), 100)\n",
    "# x_vals_with_const = sm.add_constant(x_vals)\n",
    "# y_vals = poisson_results.predict(x_vals_with_const)\n",
    "\n",
    "# # Create a DataFrame for easier data manipulation\n",
    "# df = pd.DataFrame({'x': x_data, 'y': y_data})\n",
    "\n",
    "# # Explicitly setting the minimum and maximum values for the x-axis bins\n",
    "# x_min = min(x_data)\n",
    "# x_max = max(x_data)\n",
    "\n",
    "# # Create log-spaced bins that span the entire range of x\n",
    "# bin_edges = np.logspace(np.log10(x_min), np.log10(x_max), num=10)\n",
    "\n",
    "# # Verify that bin edges cover the x-range\n",
    "# print(f\"Minimum x value: {x_min}, Maximum x value: {x_max}\")\n",
    "# print(f\"Bin edges: {bin_edges}\")\n",
    "\n",
    "# # Use the bin edges in pd.cut()\n",
    "# binned_statistic = df.groupby(pd.cut(df['x'], bins=bin_edges, include_lowest=True))\n",
    "\n",
    "# median = binned_statistic['y'].median()\n",
    "# median_v = 10 ** (np.log10(np.array([[j.left, j.right] for j in [i[0] for i in median.items()]])).sum(axis = 1) / 2)\n",
    "# q1 = binned_statistic['y'].quantile(0.25)\n",
    "# q3 = binned_statistic['y'].quantile(0.75)\n",
    "\n",
    "# plt.figure(figsize=(10, 10))\n",
    "\n",
    "# # # Add median-quantile error bars (color = black)\n",
    "# plt.errorbar(median_v, median, yerr=[median - q1, q3 - median], fmt='o', label='Median-Q1-Q3', color='black')\n",
    "\n",
    "# # Plot everything\n",
    "# plt.scatter(x_data, y_data, label='Data', alpha=0.6)\n",
    "# plt.plot(np.exp(x_vals), y_vals, 'r-', label='Poisson Regression')\n",
    "\n",
    "# plt.gca().set_xscale(\"log\")\n",
    "# plt.gca().set_yscale(\"log\")\n",
    "# plt.legend()\n",
    "# plt.tight_layout()\n",
    "# plt.show()\n"
   ]
  },
  {
   "cell_type": "markdown",
   "metadata": {},
   "source": [
    "### Test that the model works"
   ]
  },
  {
   "cell_type": "code",
   "execution_count": 39,
   "metadata": {},
   "outputs": [
    {
     "data": {
      "image/png": "[encoded data removed]",
      "text/plain": [
       "<Figure size 432x288 with 1 Axes>"
      ]
     },
     "metadata": {
      "needs_background": "light"
     },
     "output_type": "display_data"
    },
    {
     "name": "stdout",
     "output_type": "stream",
     "text": [
      "torch.Size([3, 256, 256])\n",
      "['Tyta_luctuosa_Denis_Schiffermller_1775', 'Idaea', 'Noctuidae']\n",
      "___________________\n",
      "|Number of classes|\n",
      "|_________________|\n",
      "| species  : 2286 |\n",
      "|  genera  :  710 |\n",
      "| families :   25 |\n",
      "|_________________|\n",
      "Correctness score: 0.0020446777\n"
     ]
    },
    {
     "data": {
      "image/png": "[encoded data removed]",
      "text/plain": [
       "<Figure size 360x1080 with 3 Axes>"
      ]
     },
     "metadata": {
      "needs_background": "light"
     },
     "output_type": "display_data"
    },
    {
     "data": {
      "image/png": "[encoded data removed]",
      "text/plain": [
       "<Figure size 360x1080 with 3 Axes>"
      ]
     },
     "metadata": {
      "needs_background": "light"
     },
     "output_type": "display_data"
    }
   ],
   "source": [
    "model.eval()\n",
    "\n",
    "# Load and preprocess your test data\n",
    "test = torchvision.io.read_image(\"../datasets/fine_tuning/images/train/9.jpg\")\n",
    "test = image_preprocessing(test).to(device=device, dtype=dtype)\n",
    "\n",
    "test_img = denormalize(test).cpu().float().squeeze(0).numpy().transpose(1, 2, 0)\n",
    "plt.imshow(test_img)\n",
    "plt.show()\n",
    "\n",
    "print(test.shape)\n",
    "test = torch.stack([test, test, test])\n",
    "\n",
    "\n",
    "# Perform inference\n",
    "with torch.no_grad():\n",
    "    pred = model(test)\n",
    "\n",
    "    # Print first prediction\n",
    "    pred1 = [p[0].softmax(-1).argmax(-1).cpu().numpy() for p in pred]\n",
    "    pred1_readable = [full_dataset.idx_to_class[i][int(p)] for i, p in enumerate(pred1)]\n",
    "    print(pred1_readable)\n",
    "    \n",
    "    fig, axs = plt.subplots(3, 1, figsize=(5, 15))\n",
    "\n",
    "    for i, (p, ax) in enumerate(zip(pred, axs.ravel())):\n",
    "        p = p[0].softmax(-1).cpu().float().numpy()\n",
    "        p /= p.max(-1) * 2\n",
    "        if i > 0:\n",
    "            xs = np.cumsum([0] + [len(j) for j in hierarchy[i-1]]).astype(np.float32)\n",
    "            xs /= xs.max()\n",
    "        else:\n",
    "            xs = np.linspace(0, 1, p.shape[0] + 1)\n",
    "        # print(p)\n",
    "        ax.stairs(\n",
    "            p, \n",
    "            xs,\n",
    "            label = [\"Species\", \"Genus\", \"Family\"][i]\n",
    "        )\n",
    "        if i != (len(pred) -1):\n",
    "            ax.set_xticklabels([])\n",
    "\n",
    "plt.tight_layout()\n",
    "\n",
    "# Print the prediction\n",
    "print(f\"___________________\\n|{'Number of classes':^17}|\\n|_________________|\")\n",
    "for ctype, i in zip([\"species\", \"genera\", \"families\"], range(len(pred))):\n",
    "    print(f'|{ctype:^10}:{pred[i].shape[1]:>5} |')\n",
    "print(\"|_________________|\")\n",
    "\n",
    "print(f'Correctness score: {correctness_score(pred, logits=True)**(-1/2):.10f}')\n",
    "\n",
    "def plot_horizontal_segments(ax, y_levels, segment_lengths, colors=None):\n",
    "    \"\"\"\n",
    "    Plots horizontal line segments on a given Matplotlib axis.\n",
    "\n",
    "    Parameters:\n",
    "    ax (matplotlib.axis): The axis on which to plot.\n",
    "    y_levels (array-like): The y-levels at which to plot the line segments.\n",
    "    segment_lengths (array-like): The lengths of each line segment.\n",
    "    colors (list, optional): List of colors to use for the segments. Defaults to None.\n",
    "    \"\"\"\n",
    "    \n",
    "    # Default color list; used if no colors are provided\n",
    "    default_colors = ['red', 'green', 'blue', 'yellow']\n",
    "    \n",
    "    # Use provided colors or default colors\n",
    "    colors = colors if colors else default_colors\n",
    "    \n",
    "    # Validate lengths\n",
    "    if len(y_levels) != len(segment_lengths):\n",
    "        raise ValueError(\"Lengths of y_levels and segment_lengths must match.\")\n",
    "\n",
    "    x_start = 0\n",
    "    for i, (y, length) in enumerate(zip(y_levels, segment_lengths)):\n",
    "        x_end = x_start + length\n",
    "        ax.plot([x_start, x_end], [y, y], linewidth=2, color=colors[i % len(colors)])\n",
    "        x_start = x_end\n",
    "\n",
    "def plot_hierarchy(probs, child_indices):\n",
    "    probs = [p[0].softmax(0).cpu().float().numpy() for p in probs]\n",
    "\n",
    "    # Find the correct order of leafs such that they come in the order of which parent they belong to\n",
    "    leaf_order = []\n",
    "    for i, indices in enumerate(child_indices[0]):\n",
    "        leaf_order += indices\n",
    "\n",
    "    fig, axs = plt.subplots(3, 1, figsize=(5, 15))\n",
    "    # fig = plt.figure(figsize=(5, 15))\n",
    "\n",
    "    for i, p in enumerate(probs):\n",
    "        if i == 0:\n",
    "            p = p[leaf_order]\n",
    "        if i > 0:\n",
    "            # xs = np.cumsum([] + [len(j) for j in child_indices[i-1]]).astype(np.float32)\n",
    "            # xs /= xs.max()\n",
    "            xs = np.array([len(j) for j in child_indices[i-1]]).astype(np.float32)\n",
    "            xs /= xs.sum()\n",
    "        else:\n",
    "            # xs = np.linspace(0, 1, p.shape[0] + 0)\n",
    "            xs = np.ones(p.shape[0]).astype(np.float32)\n",
    "            xs /= xs.sum()\n",
    "        if i != len(probs) - 1:\n",
    "            parents = [None] * len(xs)\n",
    "            for parent, children in enumerate(child_indices[i]):\n",
    "                for child in children:\n",
    "                    parents[child] = parent\n",
    "            assert None not in parents, f\"None in parents: {parents}\"\n",
    "        else:\n",
    "            parents = None\n",
    "        # print(parents)\n",
    "        # print(p)\n",
    "        # assert len(xs) == len(p) and (len(xs) == len(parents) or parents is None), f\"Lengths of xs ({len(xs)}), p ({len(p)}) and parents ({len(parents)}) do not match.\"\n",
    "        plot_horizontal_segments(axs[i], p, xs, colors=[f'#000000{int(9 * i / max(parents))}{int(9 * (i / max(parents) // 1))}' for i in parents] if parents else None)\n",
    "        if i != (len(probs) -1):\n",
    "            axs[i].set_xticklabels([])\n",
    "\n",
    "# Plot the hierarchy\n",
    "plot_hierarchy(pred, hierarchy)"
   ]
  },
  {
   "cell_type": "code",
   "execution_count": 33,
   "metadata": {},
   "outputs": [
    {
     "data": {
      "text/plain": [
       "'Drepanidae'"
      ]
     },
     "execution_count": 33,
     "metadata": {},
     "output_type": "execute_result"
    }
   ],
   "source": [
    "full_dataset.idx_to_class[2][6]"
   ]
  },
  {
   "cell_type": "code",
   "execution_count": 38,
   "metadata": {},
   "outputs": [
    {
     "data": {
      "text/plain": [
       "array([4610, 4610, 4610, ...,    1,    1,    1])"
      ]
     },
     "execution_count": 38,
     "metadata": {},
     "output_type": "execute_result"
    }
   ],
   "source": [
    "class_counts[0]"
   ]
  },
  {
   "cell_type": "code",
   "execution_count": 28,
   "metadata": {},
   "outputs": [],
   "source": [
    "val.dataset._shutdown_and_reset()"
   ]
  },
  {
   "cell_type": "code",
   "execution_count": 26,
   "metadata": {},
   "outputs": [],
   "source": [
    "test_batch = next(iter(val))"
   ]
  },
  {
   "cell_type": "code",
   "execution_count": 51,
   "metadata": {},
   "outputs": [],
   "source": [
    "def confusion_matrix(model, batch, name, writer):\n",
    "    for level in range(3):\n",
    "        batch[0] = batch[0].to(device=device, dtype=dtype)\n",
    "\n",
    "        with torch.no_grad():\n",
    "            pred = model(batch[0])\n",
    "            pcls = pred[level].softmax(-1).argmax(-1).cpu().numpy()\n",
    "            \n",
    "            true = batch[1][level].cpu().numpy()\n",
    "\n",
    "        cm = np.zeros((num_classes[level] + 1, num_classes[level] + 1))\n",
    "        for p, t in zip(pcls, true):\n",
    "            cm[p, t] += 1\n",
    "        cm /= cm.sum(axis=0) + 1\n",
    "        \n",
    "        plt.figure(figsize=(10, 10))\n",
    "        plt.imshow(cm)\n",
    "        plt.colorbar()\n",
    "        plt.tight_layout()\n",
    "        writer.add_figure(f\"Confusion Matrix {level}\", plt.gcf())\n",
    "\n",
    "    return\n",
    "\n",
    "confusion_matrix(model, test_batch, \"testplots\", writer)\n",
    "# del test_batch"
   ]
  },
  {
   "cell_type": "code",
   "execution_count": 48,
   "metadata": {},
   "outputs": [
    {
     "data": {
      "text/plain": [
       "<tensorboardX.writer.SummaryWriter at 0x7f454b00e0d0>"
      ]
     },
     "execution_count": 48,
     "metadata": {},
     "output_type": "execute_result"
    }
   ],
   "source": [
    "writer"
   ]
  },
  {
   "cell_type": "code",
   "execution_count": 14,
   "metadata": {},
   "outputs": [
    {
     "name": "stdout",
     "output_type": "stream",
     "text": [
      "Memory usage: 0.03 GB\n"
     ]
    }
   ],
   "source": [
    "# Check memory usage\n",
    "torch.cuda.empty_cache()\n",
    "print(f\"Memory usage: {torch.cuda.memory_allocated()/1e9:.2f} GB\")"
   ]
  },
  {
   "cell_type": "markdown",
   "metadata": {},
   "source": [
    "# Training"
   ]
  },
  {
   "cell_type": "markdown",
   "metadata": {},
   "source": [
    "## Setup loss and optimizer"
   ]
  },
  {
   "cell_type": "code",
   "execution_count": 38,
   "metadata": {},
   "outputs": [
    {
     "name": "stdout",
     "output_type": "stream",
     "text": [
      "name 'test_batch' is not defined\n",
      "name 'images' is not defined\n",
      "name 'preds' is not defined\n",
      "name 'loss' is not defined\n",
      "name 'lcorr' is not defined\n",
      "name 'combined_loss' is not defined\n",
      "name 'loss_fns' is not defined\n",
      "Memory usage: 0.05 GB\n",
      "Cached GPU memory: 0.171966464 GB\n",
      "species : min=0.27 | max=3.30 | mean=1.00 | std=0.91\n",
      "genus   : min=0.37 | max=5.50 | mean=1.00 | std=1.02\n",
      "family  : min=0.31 | max=5.78 | mean=1.00 | std=1.21\n"
     ]
    },
    {
     "data": {
      "image/png": "[encoded data removed]",
      "text/plain": [
       "<Figure size 2160x720 with 3 Axes>"
      ]
     },
     "metadata": {
      "needs_background": "light"
     },
     "output_type": "display_data"
    }
   ],
   "source": [
    "import gc\n",
    "\n",
    "try:\n",
    "    del test_batch\n",
    "except Exception as e:\n",
    "    print(e)\n",
    "try:\n",
    "    del images\n",
    "except Exception as e:\n",
    "    print(e)\n",
    "try:\n",
    "    del labels\n",
    "except Exception as e:\n",
    "    print(e)\n",
    "try:\n",
    "    del batch\n",
    "except Exception as e:\n",
    "    print(e)\n",
    "try:\n",
    "    del preds\n",
    "except Exception as e:\n",
    "    print(e)\n",
    "try:\n",
    "    del pred\n",
    "except Exception as e:\n",
    "    print(e)\n",
    "try:\n",
    "    del loss\n",
    "except Exception as e:\n",
    "    print(e)\n",
    "try:\n",
    "    del lcorr\n",
    "except Exception as e:\n",
    "    print(e)\n",
    "try:\n",
    "    del combined_loss\n",
    "except Exception as e:\n",
    "    print(e)\n",
    "try:\n",
    "    del loss_fns\n",
    "except Exception as e:\n",
    "    print(e)\n",
    "try:\n",
    "    del optimizer\n",
    "except Exception as e:\n",
    "    print(e)\n",
    "try:\n",
    "    del lr_scheduler\n",
    "except Exception as e:\n",
    "    print(e)\n",
    "try:\n",
    "    del class_weights\n",
    "except Exception as e:\n",
    "    print(e)\n",
    "\n",
    "gc.collect()\n",
    "torch.cuda.empty_cache()\n",
    "print(f\"Memory usage: {torch.cuda.memory_allocated()/1e9:.2f} GB\")\n",
    "print(f\"Cached GPU memory: {torch.cuda.memory_reserved() / 1e9} GB\")\n",
    "\n",
    "epochs = 3\n",
    "lr = 5e-2\n",
    "\n",
    "loss_fn = nn.CrossEntropyLoss(reduction=\"none\")\n",
    "def loss_correct(logits):\n",
    "    return correctness_score(logits, logits=True) ** (-1/2)\n",
    "# RMSProp optimizer with decay 0.9 and momentum 0.9; batch norm momentum 0.99; weight decay 1e-5; initial learning rate 0.256 that decays by 0.97 every 2.4 epochs\n",
    "optimizer = optim.AdamW([\n",
    "    {\n",
    "        'params' : model.classifier.parameters(),\n",
    "        'lr' : lr,\n",
    "        'weight_decay' : 1e-5,\n",
    "    },\n",
    "    {\n",
    "        'params' : model.features.parameters(),\n",
    "        'lr' : lr / 1e2,\n",
    "        'weight_decay' : 1e-5,\n",
    "    }])\n",
    "lr_scheduler = optim.lr_scheduler.StepLR(optimizer, step_size=1, gamma=(1e-3)**(1/(epochs*len(train))), verbose=False)\n",
    "\n",
    "family_weight, genus_weight, species_weight = 0, 0, 1\n",
    "loss_weights = [species_weight, genus_weight, family_weight]\n",
    "\n",
    "class_weights = [torch.tensor(i, device=device, dtype=dtype) for i in class_counts]\n",
    "class_weights = [1 / (i + 1).log10() for i in class_weights]\n",
    "class_weights = [i / i.mean() for i in class_weights]\n",
    "for i in class_weights:\n",
    "    i.requires_grad = False\n",
    "\n",
    "[print('{} : min={:.2f} | max={:.2f} | mean={:.2f} | std={:.2f}'.format([\"species\", \"genus  \", \"family \"][ind], i.min().item(), i.max().item(), i.mean().item(), i.std().item())) for ind, i in enumerate(class_weights)]\n",
    "pass\n",
    "\n",
    "fig, axs = plt.subplots(1, 3, figsize=(30,10))\n",
    "for i, ax in enumerate(axs.ravel()):\n",
    "    ax.hist(class_weights[i].cpu().float(), bins=250, cumulative=True, range=[0, class_weights[i].cpu().float().max().item()], density=True)\n",
    "pass"
   ]
  },
  {
   "cell_type": "code",
   "execution_count": 32,
   "metadata": {},
   "outputs": [],
   "source": [
    "# tensorboard --logdir=/home/ucloud/EUMothModel/tensorboard_logs\n",
    "# Define the base log directory\n",
    "base_logdir = \"/home/ucloud/EUMothModel/tensorboard_logs\"\n",
    "\n",
    "# List all existing run directories in the base log directory\n",
    "existing_runs = [d for d in os.listdir(base_logdir) if d.startswith(\"run\")]\n",
    "\n",
    "# Find the maximum run number among existing directories and increment for the next run\n",
    "next_run_number = max([int(run[3:]) for run in existing_runs] + [0]) + 1\n",
    "\n",
    "# Create a new run directory using the incremented run number\n",
    "logdir = os.path.join(base_logdir, f\"run{next_run_number}\")\n",
    "\n",
    "# Create the SummaryWriter with the unique logdir\n",
    "writer = SummaryWriter(logdir=logdir)"
   ]
  },
  {
   "cell_type": "code",
   "execution_count": 37,
   "metadata": {},
   "outputs": [
    {
     "name": "stdout",
     "output_type": "stream",
     "text": [
      "Waiting for worker 0 to finish.\n"
     ]
    },
    {
     "ename": "AttributeError",
     "evalue": "'Thread' object has no attribute 'terminate'",
     "output_type": "error",
     "traceback": [
      "\u001b[0;31m---------------------------------------------------------------------------\u001b[0m",
      "\u001b[0;31mAttributeError\u001b[0m                            Traceback (most recent call last)",
      "\u001b[0;32m<ipython-input-37-1d8e62150e46>\u001b[0m in \u001b[0;36m<module>\u001b[0;34m\u001b[0m\n\u001b[0;32m----> 1\u001b[0;31m \u001b[0mtrain\u001b[0m\u001b[0;34m.\u001b[0m\u001b[0mdataset\u001b[0m\u001b[0;34m.\u001b[0m\u001b[0m_shutdown_and_reset\u001b[0m\u001b[0;34m(\u001b[0m\u001b[0;34m)\u001b[0m\u001b[0;34m\u001b[0m\u001b[0;34m\u001b[0m\u001b[0m\n\u001b[0m",
      "\u001b[0;32m~/EUMothModel/tutils/dataloader.py\u001b[0m in \u001b[0;36m_shutdown_and_reset\u001b[0;34m(self)\u001b[0m\n\u001b[1;32m    151\u001b[0m             \u001b[0mconsumer\u001b[0m\u001b[0;34m.\u001b[0m\u001b[0mjoin\u001b[0m\u001b[0;34m(\u001b[0m\u001b[0mtimeout\u001b[0m \u001b[0;34m=\u001b[0m \u001b[0;36m1\u001b[0m \u001b[0;34m/\u001b[0m \u001b[0mself\u001b[0m\u001b[0;34m.\u001b[0m\u001b[0mnum_workers\u001b[0m\u001b[0;34m)\u001b[0m \u001b[0;31m# Wait for the consumer thread to finish\u001b[0m\u001b[0;34m\u001b[0m\u001b[0;34m\u001b[0m\u001b[0m\n\u001b[1;32m    152\u001b[0m         \u001b[0;32mif\u001b[0m \u001b[0mself\u001b[0m\u001b[0;34m.\u001b[0m\u001b[0mproducer_thread\u001b[0m \u001b[0;32mis\u001b[0m \u001b[0;32mnot\u001b[0m \u001b[0;32mNone\u001b[0m\u001b[0;34m:\u001b[0m\u001b[0;34m\u001b[0m\u001b[0;34m\u001b[0m\u001b[0m\n\u001b[0;32m--> 153\u001b[0;31m             \u001b[0mself\u001b[0m\u001b[0;34m.\u001b[0m\u001b[0mproducer_thread\u001b[0m\u001b[0;34m.\u001b[0m\u001b[0mjoin\u001b[0m\u001b[0;34m(\u001b[0m\u001b[0mtimeout\u001b[0m\u001b[0;34m=\u001b[0m\u001b[0;36m1\u001b[0m\u001b[0;34m)\u001b[0m \u001b[0;31m# Wait for the producer thread to finish\u001b[0m\u001b[0;34m\u001b[0m\u001b[0;34m\u001b[0m\u001b[0m\n\u001b[0m\u001b[1;32m    154\u001b[0m             \u001b[0mself\u001b[0m\u001b[0;34m.\u001b[0m\u001b[0mproducer_thread\u001b[0m \u001b[0;34m=\u001b[0m \u001b[0;32mNone\u001b[0m \u001b[0;31m# Reset the producer thread\u001b[0m\u001b[0;34m\u001b[0m\u001b[0;34m\u001b[0m\u001b[0m\n\u001b[1;32m    155\u001b[0m         \u001b[0mself\u001b[0m\u001b[0;34m.\u001b[0m\u001b[0mconsumer_threads\u001b[0m \u001b[0;34m=\u001b[0m \u001b[0;34m[\u001b[0m\u001b[0;34m]\u001b[0m \u001b[0;31m# Reset the consumer threads\u001b[0m\u001b[0;34m\u001b[0m\u001b[0;34m\u001b[0m\u001b[0m\n",
      "\u001b[0;31mAttributeError\u001b[0m: 'Thread' object has no attribute 'terminate'"
     ]
    }
   ],
   "source": [
    "train.dataset._shutdown_and_reset()"
   ]
  },
  {
   "cell_type": "code",
   "execution_count": 19,
   "metadata": {},
   "outputs": [],
   "source": [
    "# torch.autograd.set_detect_anomaly(True)"
   ]
  },
  {
   "cell_type": "code",
   "execution_count": 33,
   "metadata": {},
   "outputs": [
    {
     "name": "stderr",
     "output_type": "stream",
     "text": [
      "Epoch 0:   0%|          | 0/550 [00:00<?, ?it/s]"
     ]
    },
    {
     "name": "stderr",
     "output_type": "stream",
     "text": [
      "TRAIN: Epoch 0 | Correctness 0.00 | Family : 1.56 | Genus : 6.47 | Species : 7.69 | Combined : 7.69 | LR: 0.04794995 | Memory usage: 0.11 GB:   2%|▏         | 10/550 [00:32<29:32,  3.28s/it] \n"
     ]
    },
    {
     "ename": "KeyboardInterrupt",
     "evalue": "",
     "output_type": "error",
     "traceback": [
      "\u001b[0;31m---------------------------------------------------------------------------\u001b[0m",
      "\u001b[0;31mKeyboardInterrupt\u001b[0m                         Traceback (most recent call last)",
      "\u001b[0;32m<ipython-input-33-e01033007fa8>\u001b[0m in \u001b[0;36m<module>\u001b[0;34m\u001b[0m\n\u001b[1;32m      6\u001b[0m     \u001b[0mpbar\u001b[0m \u001b[0;34m=\u001b[0m \u001b[0mtqdm\u001b[0m\u001b[0;34m(\u001b[0m\u001b[0mtrain\u001b[0m\u001b[0;34m,\u001b[0m \u001b[0mtotal\u001b[0m\u001b[0;34m=\u001b[0m\u001b[0mlen\u001b[0m\u001b[0;34m(\u001b[0m\u001b[0mtrain\u001b[0m\u001b[0;34m)\u001b[0m\u001b[0;34m,\u001b[0m \u001b[0mdesc\u001b[0m\u001b[0;34m=\u001b[0m\u001b[0;34mf\"Epoch {epoch}\"\u001b[0m\u001b[0;34m)\u001b[0m\u001b[0;34m\u001b[0m\u001b[0;34m\u001b[0m\u001b[0m\n\u001b[1;32m      7\u001b[0m     \u001b[0mtorch\u001b[0m\u001b[0;34m.\u001b[0m\u001b[0mcuda\u001b[0m\u001b[0;34m.\u001b[0m\u001b[0mempty_cache\u001b[0m\u001b[0;34m(\u001b[0m\u001b[0;34m)\u001b[0m\u001b[0;34m\u001b[0m\u001b[0;34m\u001b[0m\u001b[0m\n\u001b[0;32m----> 8\u001b[0;31m     \u001b[0;32mfor\u001b[0m \u001b[0mbatch\u001b[0m \u001b[0;32min\u001b[0m \u001b[0mpbar\u001b[0m\u001b[0;34m:\u001b[0m\u001b[0;34m\u001b[0m\u001b[0;34m\u001b[0m\u001b[0m\n\u001b[0m\u001b[1;32m      9\u001b[0m         \u001b[0mimages\u001b[0m\u001b[0;34m,\u001b[0m \u001b[0mlabels\u001b[0m\u001b[0;34m,\u001b[0m \u001b[0mpaths\u001b[0m \u001b[0;34m=\u001b[0m \u001b[0mbatch\u001b[0m\u001b[0;34m\u001b[0m\u001b[0;34m\u001b[0m\u001b[0m\n\u001b[1;32m     10\u001b[0m         \u001b[0mimages\u001b[0m \u001b[0;34m=\u001b[0m \u001b[0mimages\u001b[0m\u001b[0;34m.\u001b[0m\u001b[0mto\u001b[0m\u001b[0;34m(\u001b[0m\u001b[0mdevice\u001b[0m\u001b[0;34m=\u001b[0m\u001b[0mdevice\u001b[0m\u001b[0;34m,\u001b[0m \u001b[0mdtype\u001b[0m\u001b[0;34m=\u001b[0m\u001b[0mdtype\u001b[0m\u001b[0;34m)\u001b[0m\u001b[0;34m\u001b[0m\u001b[0;34m\u001b[0m\u001b[0m\n",
      "\u001b[0;32m/usr/local/lib/python3.8/dist-packages/tqdm/std.py\u001b[0m in \u001b[0;36m__iter__\u001b[0;34m(self)\u001b[0m\n\u001b[1;32m   1180\u001b[0m \u001b[0;34m\u001b[0m\u001b[0m\n\u001b[1;32m   1181\u001b[0m         \u001b[0;32mtry\u001b[0m\u001b[0;34m:\u001b[0m\u001b[0;34m\u001b[0m\u001b[0;34m\u001b[0m\u001b[0m\n\u001b[0;32m-> 1182\u001b[0;31m             \u001b[0;32mfor\u001b[0m \u001b[0mobj\u001b[0m \u001b[0;32min\u001b[0m \u001b[0miterable\u001b[0m\u001b[0;34m:\u001b[0m\u001b[0;34m\u001b[0m\u001b[0;34m\u001b[0m\u001b[0m\n\u001b[0m\u001b[1;32m   1183\u001b[0m                 \u001b[0;32myield\u001b[0m \u001b[0mobj\u001b[0m\u001b[0;34m\u001b[0m\u001b[0;34m\u001b[0m\u001b[0m\n\u001b[1;32m   1184\u001b[0m                 \u001b[0;31m# Update and possibly print the progressbar.\u001b[0m\u001b[0;34m\u001b[0m\u001b[0;34m\u001b[0m\u001b[0;34m\u001b[0m\u001b[0m\n",
      "\u001b[0;32m/usr/local/lib/python3.8/dist-packages/torch/utils/data/dataloader.py\u001b[0m in \u001b[0;36m__next__\u001b[0;34m(self)\u001b[0m\n\u001b[1;32m    631\u001b[0m                 \u001b[0;31m# TODO(https://github.com/pytorch/pytorch/issues/76750)\u001b[0m\u001b[0;34m\u001b[0m\u001b[0;34m\u001b[0m\u001b[0;34m\u001b[0m\u001b[0m\n\u001b[1;32m    632\u001b[0m                 \u001b[0mself\u001b[0m\u001b[0;34m.\u001b[0m\u001b[0m_reset\u001b[0m\u001b[0;34m(\u001b[0m\u001b[0;34m)\u001b[0m  \u001b[0;31m# type: ignore[call-arg]\u001b[0m\u001b[0;34m\u001b[0m\u001b[0;34m\u001b[0m\u001b[0m\n\u001b[0;32m--> 633\u001b[0;31m             \u001b[0mdata\u001b[0m \u001b[0;34m=\u001b[0m \u001b[0mself\u001b[0m\u001b[0;34m.\u001b[0m\u001b[0m_next_data\u001b[0m\u001b[0;34m(\u001b[0m\u001b[0;34m)\u001b[0m\u001b[0;34m\u001b[0m\u001b[0;34m\u001b[0m\u001b[0m\n\u001b[0m\u001b[1;32m    634\u001b[0m             \u001b[0mself\u001b[0m\u001b[0;34m.\u001b[0m\u001b[0m_num_yielded\u001b[0m \u001b[0;34m+=\u001b[0m \u001b[0;36m1\u001b[0m\u001b[0;34m\u001b[0m\u001b[0;34m\u001b[0m\u001b[0m\n\u001b[1;32m    635\u001b[0m             \u001b[0;32mif\u001b[0m \u001b[0mself\u001b[0m\u001b[0;34m.\u001b[0m\u001b[0m_dataset_kind\u001b[0m \u001b[0;34m==\u001b[0m \u001b[0m_DatasetKind\u001b[0m\u001b[0;34m.\u001b[0m\u001b[0mIterable\u001b[0m \u001b[0;32mand\u001b[0m\u001b[0;31m \u001b[0m\u001b[0;31m\\\u001b[0m\u001b[0;34m\u001b[0m\u001b[0;34m\u001b[0m\u001b[0m\n",
      "\u001b[0;32m/usr/local/lib/python3.8/dist-packages/torch/utils/data/dataloader.py\u001b[0m in \u001b[0;36m_next_data\u001b[0;34m(self)\u001b[0m\n\u001b[1;32m    675\u001b[0m     \u001b[0;32mdef\u001b[0m \u001b[0m_next_data\u001b[0m\u001b[0;34m(\u001b[0m\u001b[0mself\u001b[0m\u001b[0;34m)\u001b[0m\u001b[0;34m:\u001b[0m\u001b[0;34m\u001b[0m\u001b[0;34m\u001b[0m\u001b[0m\n\u001b[1;32m    676\u001b[0m         \u001b[0mindex\u001b[0m \u001b[0;34m=\u001b[0m \u001b[0mself\u001b[0m\u001b[0;34m.\u001b[0m\u001b[0m_next_index\u001b[0m\u001b[0;34m(\u001b[0m\u001b[0;34m)\u001b[0m  \u001b[0;31m# may raise StopIteration\u001b[0m\u001b[0;34m\u001b[0m\u001b[0;34m\u001b[0m\u001b[0m\n\u001b[0;32m--> 677\u001b[0;31m         \u001b[0mdata\u001b[0m \u001b[0;34m=\u001b[0m \u001b[0mself\u001b[0m\u001b[0;34m.\u001b[0m\u001b[0m_dataset_fetcher\u001b[0m\u001b[0;34m.\u001b[0m\u001b[0mfetch\u001b[0m\u001b[0;34m(\u001b[0m\u001b[0mindex\u001b[0m\u001b[0;34m)\u001b[0m  \u001b[0;31m# may raise StopIteration\u001b[0m\u001b[0;34m\u001b[0m\u001b[0;34m\u001b[0m\u001b[0m\n\u001b[0m\u001b[1;32m    678\u001b[0m         \u001b[0;32mif\u001b[0m \u001b[0mself\u001b[0m\u001b[0;34m.\u001b[0m\u001b[0m_pin_memory\u001b[0m\u001b[0;34m:\u001b[0m\u001b[0;34m\u001b[0m\u001b[0;34m\u001b[0m\u001b[0m\n\u001b[1;32m    679\u001b[0m             \u001b[0mdata\u001b[0m \u001b[0;34m=\u001b[0m \u001b[0m_utils\u001b[0m\u001b[0;34m.\u001b[0m\u001b[0mpin_memory\u001b[0m\u001b[0;34m.\u001b[0m\u001b[0mpin_memory\u001b[0m\u001b[0;34m(\u001b[0m\u001b[0mdata\u001b[0m\u001b[0;34m,\u001b[0m \u001b[0mself\u001b[0m\u001b[0;34m.\u001b[0m\u001b[0m_pin_memory_device\u001b[0m\u001b[0;34m)\u001b[0m\u001b[0;34m\u001b[0m\u001b[0;34m\u001b[0m\u001b[0m\n",
      "\u001b[0;32m/usr/local/lib/python3.8/dist-packages/torch/utils/data/_utils/fetch.py\u001b[0m in \u001b[0;36mfetch\u001b[0;34m(self, possibly_batched_index)\u001b[0m\n\u001b[1;32m     40\u001b[0m         \u001b[0;32melse\u001b[0m\u001b[0;34m:\u001b[0m\u001b[0;34m\u001b[0m\u001b[0;34m\u001b[0m\u001b[0m\n\u001b[1;32m     41\u001b[0m             \u001b[0mdata\u001b[0m \u001b[0;34m=\u001b[0m \u001b[0mnext\u001b[0m\u001b[0;34m(\u001b[0m\u001b[0mself\u001b[0m\u001b[0;34m.\u001b[0m\u001b[0mdataset_iter\u001b[0m\u001b[0;34m)\u001b[0m\u001b[0;34m\u001b[0m\u001b[0;34m\u001b[0m\u001b[0m\n\u001b[0;32m---> 42\u001b[0;31m         \u001b[0;32mreturn\u001b[0m \u001b[0mself\u001b[0m\u001b[0;34m.\u001b[0m\u001b[0mcollate_fn\u001b[0m\u001b[0;34m(\u001b[0m\u001b[0mdata\u001b[0m\u001b[0;34m)\u001b[0m\u001b[0;34m\u001b[0m\u001b[0;34m\u001b[0m\u001b[0m\n\u001b[0m\u001b[1;32m     43\u001b[0m \u001b[0;34m\u001b[0m\u001b[0m\n\u001b[1;32m     44\u001b[0m \u001b[0;34m\u001b[0m\u001b[0m\n",
      "\u001b[0;32m/usr/local/lib/python3.8/dist-packages/torch/utils/data/_utils/collate.py\u001b[0m in \u001b[0;36mdefault_collate\u001b[0;34m(batch)\u001b[0m\n\u001b[1;32m    263\u001b[0m             \u001b[0;34m>>\u001b[0m\u001b[0;34m>\u001b[0m \u001b[0mdefault_collate\u001b[0m\u001b[0;34m(\u001b[0m\u001b[0mbatch\u001b[0m\u001b[0;34m)\u001b[0m  \u001b[0;31m# Handle `CustomType` automatically\u001b[0m\u001b[0;34m\u001b[0m\u001b[0;34m\u001b[0m\u001b[0m\n\u001b[1;32m    264\u001b[0m     \"\"\"\n\u001b[0;32m--> 265\u001b[0;31m     \u001b[0;32mreturn\u001b[0m \u001b[0mcollate\u001b[0m\u001b[0;34m(\u001b[0m\u001b[0mbatch\u001b[0m\u001b[0;34m,\u001b[0m \u001b[0mcollate_fn_map\u001b[0m\u001b[0;34m=\u001b[0m\u001b[0mdefault_collate_fn_map\u001b[0m\u001b[0;34m)\u001b[0m\u001b[0;34m\u001b[0m\u001b[0;34m\u001b[0m\u001b[0m\n\u001b[0m",
      "\u001b[0;32m/usr/local/lib/python3.8/dist-packages/torch/utils/data/_utils/collate.py\u001b[0m in \u001b[0;36mcollate\u001b[0;34m(batch, collate_fn_map)\u001b[0m\n\u001b[1;32m    140\u001b[0m \u001b[0;34m\u001b[0m\u001b[0m\n\u001b[1;32m    141\u001b[0m         \u001b[0;32mif\u001b[0m \u001b[0misinstance\u001b[0m\u001b[0;34m(\u001b[0m\u001b[0melem\u001b[0m\u001b[0;34m,\u001b[0m \u001b[0mtuple\u001b[0m\u001b[0;34m)\u001b[0m\u001b[0;34m:\u001b[0m\u001b[0;34m\u001b[0m\u001b[0;34m\u001b[0m\u001b[0m\n\u001b[0;32m--> 142\u001b[0;31m             \u001b[0;32mreturn\u001b[0m \u001b[0;34m[\u001b[0m\u001b[0mcollate\u001b[0m\u001b[0;34m(\u001b[0m\u001b[0msamples\u001b[0m\u001b[0;34m,\u001b[0m \u001b[0mcollate_fn_map\u001b[0m\u001b[0;34m=\u001b[0m\u001b[0mcollate_fn_map\u001b[0m\u001b[0;34m)\u001b[0m \u001b[0;32mfor\u001b[0m \u001b[0msamples\u001b[0m \u001b[0;32min\u001b[0m \u001b[0mtransposed\u001b[0m\u001b[0;34m]\u001b[0m  \u001b[0;31m# Backwards compatibility.\u001b[0m\u001b[0;34m\u001b[0m\u001b[0;34m\u001b[0m\u001b[0m\n\u001b[0m\u001b[1;32m    143\u001b[0m         \u001b[0;32melse\u001b[0m\u001b[0;34m:\u001b[0m\u001b[0;34m\u001b[0m\u001b[0;34m\u001b[0m\u001b[0m\n\u001b[1;32m    144\u001b[0m             \u001b[0;32mtry\u001b[0m\u001b[0;34m:\u001b[0m\u001b[0;34m\u001b[0m\u001b[0;34m\u001b[0m\u001b[0m\n",
      "\u001b[0;32m/usr/local/lib/python3.8/dist-packages/torch/utils/data/_utils/collate.py\u001b[0m in \u001b[0;36m<listcomp>\u001b[0;34m(.0)\u001b[0m\n\u001b[1;32m    140\u001b[0m \u001b[0;34m\u001b[0m\u001b[0m\n\u001b[1;32m    141\u001b[0m         \u001b[0;32mif\u001b[0m \u001b[0misinstance\u001b[0m\u001b[0;34m(\u001b[0m\u001b[0melem\u001b[0m\u001b[0;34m,\u001b[0m \u001b[0mtuple\u001b[0m\u001b[0;34m)\u001b[0m\u001b[0;34m:\u001b[0m\u001b[0;34m\u001b[0m\u001b[0;34m\u001b[0m\u001b[0m\n\u001b[0;32m--> 142\u001b[0;31m             \u001b[0;32mreturn\u001b[0m \u001b[0;34m[\u001b[0m\u001b[0mcollate\u001b[0m\u001b[0;34m(\u001b[0m\u001b[0msamples\u001b[0m\u001b[0;34m,\u001b[0m \u001b[0mcollate_fn_map\u001b[0m\u001b[0;34m=\u001b[0m\u001b[0mcollate_fn_map\u001b[0m\u001b[0;34m)\u001b[0m \u001b[0;32mfor\u001b[0m \u001b[0msamples\u001b[0m \u001b[0;32min\u001b[0m \u001b[0mtransposed\u001b[0m\u001b[0;34m]\u001b[0m  \u001b[0;31m# Backwards compatibility.\u001b[0m\u001b[0;34m\u001b[0m\u001b[0;34m\u001b[0m\u001b[0m\n\u001b[0m\u001b[1;32m    143\u001b[0m         \u001b[0;32melse\u001b[0m\u001b[0;34m:\u001b[0m\u001b[0;34m\u001b[0m\u001b[0;34m\u001b[0m\u001b[0m\n\u001b[1;32m    144\u001b[0m             \u001b[0;32mtry\u001b[0m\u001b[0;34m:\u001b[0m\u001b[0;34m\u001b[0m\u001b[0;34m\u001b[0m\u001b[0m\n",
      "\u001b[0;32m/usr/local/lib/python3.8/dist-packages/torch/utils/data/_utils/collate.py\u001b[0m in \u001b[0;36mcollate\u001b[0;34m(batch, collate_fn_map)\u001b[0m\n\u001b[1;32m    117\u001b[0m     \u001b[0;32mif\u001b[0m \u001b[0mcollate_fn_map\u001b[0m \u001b[0;32mis\u001b[0m \u001b[0;32mnot\u001b[0m \u001b[0;32mNone\u001b[0m\u001b[0;34m:\u001b[0m\u001b[0;34m\u001b[0m\u001b[0;34m\u001b[0m\u001b[0m\n\u001b[1;32m    118\u001b[0m         \u001b[0;32mif\u001b[0m \u001b[0melem_type\u001b[0m \u001b[0;32min\u001b[0m \u001b[0mcollate_fn_map\u001b[0m\u001b[0;34m:\u001b[0m\u001b[0;34m\u001b[0m\u001b[0;34m\u001b[0m\u001b[0m\n\u001b[0;32m--> 119\u001b[0;31m             \u001b[0;32mreturn\u001b[0m \u001b[0mcollate_fn_map\u001b[0m\u001b[0;34m[\u001b[0m\u001b[0melem_type\u001b[0m\u001b[0;34m]\u001b[0m\u001b[0;34m(\u001b[0m\u001b[0mbatch\u001b[0m\u001b[0;34m,\u001b[0m \u001b[0mcollate_fn_map\u001b[0m\u001b[0;34m=\u001b[0m\u001b[0mcollate_fn_map\u001b[0m\u001b[0;34m)\u001b[0m\u001b[0;34m\u001b[0m\u001b[0;34m\u001b[0m\u001b[0m\n\u001b[0m\u001b[1;32m    120\u001b[0m \u001b[0;34m\u001b[0m\u001b[0m\n\u001b[1;32m    121\u001b[0m         \u001b[0;32mfor\u001b[0m \u001b[0mcollate_type\u001b[0m \u001b[0;32min\u001b[0m \u001b[0mcollate_fn_map\u001b[0m\u001b[0;34m:\u001b[0m\u001b[0;34m\u001b[0m\u001b[0;34m\u001b[0m\u001b[0m\n",
      "\u001b[0;32m/usr/local/lib/python3.8/dist-packages/torch/utils/data/_utils/collate.py\u001b[0m in \u001b[0;36mcollate_tensor_fn\u001b[0;34m(batch, collate_fn_map)\u001b[0m\n\u001b[1;32m    160\u001b[0m         \u001b[0mstorage\u001b[0m \u001b[0;34m=\u001b[0m \u001b[0melem\u001b[0m\u001b[0;34m.\u001b[0m\u001b[0m_typed_storage\u001b[0m\u001b[0;34m(\u001b[0m\u001b[0;34m)\u001b[0m\u001b[0;34m.\u001b[0m\u001b[0m_new_shared\u001b[0m\u001b[0;34m(\u001b[0m\u001b[0mnumel\u001b[0m\u001b[0;34m,\u001b[0m \u001b[0mdevice\u001b[0m\u001b[0;34m=\u001b[0m\u001b[0melem\u001b[0m\u001b[0;34m.\u001b[0m\u001b[0mdevice\u001b[0m\u001b[0;34m)\u001b[0m\u001b[0;34m\u001b[0m\u001b[0;34m\u001b[0m\u001b[0m\n\u001b[1;32m    161\u001b[0m         \u001b[0mout\u001b[0m \u001b[0;34m=\u001b[0m \u001b[0melem\u001b[0m\u001b[0;34m.\u001b[0m\u001b[0mnew\u001b[0m\u001b[0;34m(\u001b[0m\u001b[0mstorage\u001b[0m\u001b[0;34m)\u001b[0m\u001b[0;34m.\u001b[0m\u001b[0mresize_\u001b[0m\u001b[0;34m(\u001b[0m\u001b[0mlen\u001b[0m\u001b[0;34m(\u001b[0m\u001b[0mbatch\u001b[0m\u001b[0;34m)\u001b[0m\u001b[0;34m,\u001b[0m \u001b[0;34m*\u001b[0m\u001b[0mlist\u001b[0m\u001b[0;34m(\u001b[0m\u001b[0melem\u001b[0m\u001b[0;34m.\u001b[0m\u001b[0msize\u001b[0m\u001b[0;34m(\u001b[0m\u001b[0;34m)\u001b[0m\u001b[0;34m)\u001b[0m\u001b[0;34m)\u001b[0m\u001b[0;34m\u001b[0m\u001b[0;34m\u001b[0m\u001b[0m\n\u001b[0;32m--> 162\u001b[0;31m     \u001b[0;32mreturn\u001b[0m \u001b[0mtorch\u001b[0m\u001b[0;34m.\u001b[0m\u001b[0mstack\u001b[0m\u001b[0;34m(\u001b[0m\u001b[0mbatch\u001b[0m\u001b[0;34m,\u001b[0m \u001b[0;36m0\u001b[0m\u001b[0;34m,\u001b[0m \u001b[0mout\u001b[0m\u001b[0;34m=\u001b[0m\u001b[0mout\u001b[0m\u001b[0;34m)\u001b[0m\u001b[0;34m\u001b[0m\u001b[0;34m\u001b[0m\u001b[0m\n\u001b[0m\u001b[1;32m    163\u001b[0m \u001b[0;34m\u001b[0m\u001b[0m\n\u001b[1;32m    164\u001b[0m \u001b[0;34m\u001b[0m\u001b[0m\n",
      "\u001b[0;31mKeyboardInterrupt\u001b[0m: "
     ]
    }
   ],
   "source": [
    "model.train()\n",
    "\n",
    "for epoch in range(0, epochs):\n",
    "    # if epoch == 0:\n",
    "    #     model.features.requires_grad_(True)\n",
    "    pbar = tqdm(train, total=len(train), desc=f\"Epoch {epoch}\")\n",
    "    torch.cuda.empty_cache()\n",
    "    for batch in pbar:\n",
    "        images, labels, paths = batch\n",
    "        images = images.to(device=device, dtype=dtype)\n",
    "        # icf_weights = [torch.tensor([class_weights[ctype][cls].item() for cls in clses], dtype=dtype, device=device) for ctype, clses in enumerate(labels)]\n",
    "        icf_weights = [class_weights[ctype][clses] for ctype, clses in enumerate(labels)]\n",
    "        \n",
    "        optimizer.zero_grad()\n",
    "        pred = model(images)\n",
    "        del images\n",
    "        loss = [(loss_fn(pred[i], labels[i].to(device)) * icf_weights[i]).mean() for i in range(3)]\n",
    "        with torch.no_grad():\n",
    "            lcorr = loss_correct(pred)  # Compute the correctness score of the hierarchy using the logits\n",
    "        # del pred\n",
    "        combined_loss = sum([loss[i] * loss_weights[i] for i in range(3)])\n",
    "        if lcorr < 0:\n",
    "            break\n",
    "        combined_loss.backward()\n",
    "        \n",
    "        optimizer.step()\n",
    "        lr_scheduler.step()\n",
    "        \n",
    "        for i, ltype in enumerate([\"species\", \"genera\", \"families\"]):\n",
    "            writer.add_scalar(f\"Loss/train/{ltype}\", loss[i].cpu().float(), pbar.n + len(train) * epoch)\n",
    "        writer.add_scalar(\"Loss/train/combined\", combined_loss.cpu().float(), pbar.n + len(train) * epoch)\n",
    "        writer.add_scalar(\"Loss/train/correctness\", lcorr.cpu().float(), pbar.n + len(train) * epoch)\n",
    "        \n",
    "        pbar.set_description_str(f\"TRAIN: Epoch {epoch} | Correctness {lcorr:.2f} | Family : {loss[2]:.2f} | Genus : {loss[1]:.2f} | Species : {loss[0]:.2f} | Combined : {combined_loss:.2f} | LR: {lr_scheduler.get_last_lr()[0]:.8f} | Memory usage: {torch.cuda.memory_allocated()/1e9:.2f} GB\")\n",
    "        del loss, lcorr, combined_loss\n",
    "        torch.cuda.empty_cache()\n",
    "    \n",
    "    # with torch.no_grad():\n",
    "    #     pbar = tqdm(val, total=len(val), desc=f\"Epoch {epoch}\")\n",
    "    #     for batch in pbar:\n",
    "    #         images, labels = batch\n",
    "    #         pred = model(images)\n",
    "    #         loss = [loss_fns(pred[i], labels[i]) for i in enumerate(pred)]\n",
    "    #         combined_loss = sum([loss[i] * loss_weights[i] for i in range(len(loss))])\n",
    "    #         for i, ltype in enumerate([\"species\", \"genera\", \"families\"]):\n",
    "    #             writer.add_scalar(f\"Loss/val/{ltype}\", loss[i], epoch)\n",
    "    #         writer.add_scalar(\"Loss/val/combined\", combined_loss, epoch)\n",
    "    #         pbar.set_description_str(f\"VALIDATION: Epoch {epoch} | Family Loss: {loss[2]} | Genus Loss: {loss[1]} | Species Loss: {loss[0]} | Combined Loss: {combined_loss} | LR: {lr_scheduler.get_last_lr()[0]}\")\n",
    "\n",
    "model.eval()"
   ]
  },
  {
   "cell_type": "code",
   "execution_count": 108,
   "metadata": {},
   "outputs": [],
   "source": [
    "max_width = 30\n",
    "\n",
    "def format_text(text):\n",
    "    if len(text) > max_width:\n",
    "        # Truncate long text\n",
    "        return text[:(max_width-3)] + \"...\"\n",
    "    else:\n",
    "        # Pad and center shorter text\n",
    "        padding = max_width - len(text)\n",
    "        left_padding = padding // 2\n",
    "        right_padding = padding - left_padding\n",
    "        return \" \" * left_padding + text + \" \" * right_padding\n",
    "\n",
    "def PlotPredictions(model, loader, n):\n",
    "    if model.training:\n",
    "        model_is_training = True\n",
    "        model.eval()\n",
    "    else:\n",
    "        model_is_training = False\n",
    "\n",
    "    cls_dicts = train.dataset.idx_to_class\n",
    "    fam_dict, gen_dict, sp_dict = cls_dicts[2], cls_dicts[1], cls_dicts[0]\n",
    "\n",
    "    with torch.no_grad():\n",
    "        torch.cuda.empty_cache()\n",
    "        for batch in loader:\n",
    "            images, labels, paths = batch\n",
    "            images = images.to(device=device, dtype=dtype)\n",
    "            print(images.shape)\n",
    "            print(labels)\n",
    "            pred = model(images)\n",
    "            for i in range(len(images)):\n",
    "                pfamily, pgenus, pspecies = pred[2][i].argmax(), pred[1][i].argmax(), pred[0][i].argmax()\n",
    "                tfamily, tgenus, tspecies = labels[2][i], labels[1][i], labels[0][i]\n",
    "\n",
    "                pfamily, tfamily, pgenus, tgenus, pspecies, tspecies = pfamily.cpu().item(), tfamily.cpu().item(), pgenus.cpu().item(), tgenus.cpu().item(), pspecies.cpu().item(), tspecies.cpu().item()\n",
    "                print(\n",
    "                    \"pfamily:\", pfamily, \"tfamily:\", tfamily, \"pgenus:\", pgenus, \"tgenus:\", tgenus, \"pspecies:\", pspecies, \"tspecies:\", tspecies, \"\\n\"\n",
    "                )\n",
    "                pfamily, tfamily, pgenus, tgenus, pspecies, tspecies = fam_dict[pfamily], fam_dict[tfamily], gen_dict[pgenus], gen_dict[tgenus], sp_dict[pspecies], sp_dict[tspecies]\n",
    "\n",
    "                pred_v_truth = f'''\n",
    "                {\"\":<9} | {format_text(\"Predicted\"):<{max_width}} | {format_text(\"Truth\"):<{max_width}}\n",
    "                {\"-\" * 9} | {\"-\" * max_width} | {\"-\" * max_width}\n",
    "                {\"Family\":^10}| {format_text(pfamily):<{max_width}} | {format_text(tfamily):<{max_width}}\n",
    "                {\"Genus\":^10}| {format_text(pgenus):<{max_width}} | {format_text(tgenus):<{max_width}}\n",
    "                {\"Species\":^10}| {format_text(pspecies):<{max_width}} | {format_text(tspecies):<{max_width}}\n",
    "                '''\n",
    "\n",
    "                img = images[i].cpu().float()\n",
    "                # print(img.min(), img.max())\n",
    "                img = denormalize(img).squeeze()\n",
    "                # print(img.min(), img.max())\n",
    "                # img = (img / 255).clamp(0, 1)\n",
    "                img = img.clamp(0, 1)\n",
    "                print(img.min(), img.max())\n",
    "                img = img.permute(1, 2, 0)\n",
    "                # plt.plot(facecolor='white', edgecolor='black')\n",
    "                # plt.imshow(img)\n",
    "                # plt.title(pred_v_truth, fontdict={'fontsize': 8})\n",
    "                # plt.axis('off')\n",
    "                # plt.savefig(f'../plots/prediction_{n}.png')\n",
    "                # plt.close()\n",
    "\n",
    "                # Create a figure with a white background\n",
    "                fig = plt.figure(figsize=(6, 6), facecolor='white')\n",
    "\n",
    "                # Create an Axes to hold your image\n",
    "                ax = fig.add_axes([0, 0, 1, 1])\n",
    "\n",
    "                # Plot your image\n",
    "                ax.imshow(img)\n",
    "\n",
    "                # Print predictions vs ground truth as the plot title, centered and in monospace\n",
    "                plt.title(pred_v_truth, fontdict={'fontsize': 8, 'fontfamily': 'monospace'}, loc='center')\n",
    "                plt.axis('off')\n",
    "\n",
    "                # Save the plot with a white background\n",
    "                plt.savefig(f'../plots/prediction_{n}.png', facecolor='white', dpi=300, bbox_inches='tight', pad_inches=0.25)\n",
    "\n",
    "                # Close the figure\n",
    "                plt.close(fig)\n",
    "\n",
    "                n -= 1\n",
    "                if n == 0:\n",
    "                    break\n",
    "            if n == 0:\n",
    "                break\n",
    "    if model_is_training:\n",
    "        model.train()\n",
    "    else:\n",
    "        model.eval()\n",
    "\n",
    "    return images, labels, pred"
   ]
  },
  {
   "cell_type": "code",
   "execution_count": 110,
   "metadata": {},
   "outputs": [
    {
     "name": "stderr",
     "output_type": "stream",
     "text": [
      "/home/ucloud/EUMothModel/tutils/implicit_mount.py:857: UserWarning: Failed to remove file: remove: path should be string, bytes or os.PathLike, not tuple\n",
      "  warnings.warn(f\"Failed to remove file: {e}\")\n"
     ]
    }
   ],
   "source": [
    "val.dataset._shutdown_and_reset()"
   ]
  },
  {
   "cell_type": "code",
   "execution_count": 111,
   "metadata": {},
   "outputs": [
    {
     "name": "stderr",
     "output_type": "stream",
     "text": [
      "/home/ucloud/.local/lib/python3.8/site-packages/torchvision/transforms/functional.py:1603: UserWarning: The default value of the antialias parameter of all the resizing transforms (Resize(), RandomResizedCrop(), etc.) will change from None to True in v0.17, in order to be consistent across the PIL and Tensor backends. To suppress this warning, directly pass antialias=True (recommended, future default), antialias=None (current default, which means False for Tensors and True for PIL), or antialias=False (only works on Tensors - PIL will still use antialiasing). This also applies if you are using the inference transforms from the models weights: update the call to weights.transforms(antialias=True).\n",
      "  warnings.warn(\n"
     ]
    },
    {
     "name": "stdout",
     "output_type": "stream",
     "text": [
      "torch.Size([128, 3, 256, 256])\n",
      "[tensor([1626, 1852,  796, 1565, 1773, 1435, 2136, 1811, 2102, 2188, 1890, 2012,\n",
      "        1780, 1484,   76, 1138,  732, 1565,  297,   17,  672, 2265, 1890, 1499,\n",
      "          98,  590, 1754, 1624,  589, 2266,  596,    7, 1200,  451,  575, 1116,\n",
      "         697,  735, 1561,  732,  841,  699, 1671,  506, 1136,  881, 1444,  796,\n",
      "         916, 1382,   58, 1499,    7,   26, 1531, 2003,  763, 1767, 1154, 2259,\n",
      "        2108, 1569, 2115, 1916,  426,  686, 2115,  156, 1122,    0,  794,   93,\n",
      "         840, 1191, 1907,  216,  896,  732, 1499, 1170,  726,  724, 1563, 2102,\n",
      "        1349,  872, 2264, 1668,  894,  815, 1085, 1862, 1916,  779,  928,    7,\n",
      "         966,  779, 1929,  532,  675, 1834,  145, 1006, 1531,  680, 1337,   50,\n",
      "         882,  251,  231,   14,  496, 2072,  755,  452,  103, 1650,  333,  192,\n",
      "        2188,  277,  135,  254, 1295, 1766, 1515, 1916]), tensor([462, 569, 242, 443, 534, 398, 671, 550, 657, 696, 593, 632, 535, 417,\n",
      "         25, 326, 219, 443,  95,   6, 198, 709, 593, 426,  26, 182, 577, 460,\n",
      "        181, 709, 183,   1, 350, 139, 173, 318, 204, 220, 443, 219, 256, 204,\n",
      "        480, 150, 325, 265, 400, 242, 274, 382,  20, 426,   1,  11, 435, 626,\n",
      "        228, 529, 338, 709, 660, 443, 661, 605, 134, 203, 661,  41, 319,   0,\n",
      "        240,  26, 255, 347, 600,  64, 270, 219, 426, 342, 217, 216, 443, 657,\n",
      "        370, 262, 709, 480, 270, 247, 312, 576, 605, 230, 274,   1, 274, 230,\n",
      "        610, 161, 199, 555,  38, 278, 435, 201, 366,  16, 265,  80,  68,   6,\n",
      "        145, 648, 225, 139,  26, 476, 112,  53, 696,  90,  37,  81, 354, 529,\n",
      "        432, 605]), tensor([10, 17, 10, 16, 16,  8, 16, 14,  6, 10, 16, 22, 16, 16, 16, 10, 16, 16,\n",
      "        10, 16, 22, 24, 16,  8, 16, 16, 19, 14, 10, 24, 10, 16, 10, 16, 16, 16,\n",
      "        16, 16, 16, 16, 16, 16, 16, 10, 10,  8, 10, 10, 10, 10, 10,  8, 16, 16,\n",
      "        16, 10, 10, 18, 16, 24, 18, 16, 10, 20, 16, 16, 10, 16, 16, 10,  7, 16,\n",
      "        10,  8,  8, 16, 10, 16,  8, 16, 18,  6, 16,  6, 22, 16, 24, 16, 10, 10,\n",
      "         6, 10, 20,  8, 10, 16, 10,  8,  8, 18, 10,  6, 16, 16, 16, 14, 16, 24,\n",
      "         8, 16,  8, 16, 10, 21, 10, 16, 16,  8,  8, 16, 10, 16, 16, 16, 10, 18,\n",
      "        16, 20])]\n",
      "pfamily: 18 tfamily: 10 pgenus: 672 tgenus: 462 pspecies: 2234 tspecies: 1626 \n",
      "\n",
      "tensor(0.) tensor(0.9537)\n",
      "Error reading image Geometridae/Alsophila/Alsophila_aescularia_Denis_Schiffermller_1775/4159630662.jpg.\n",
      "Error reading image Erebidae/Setina/Setina_irrorella_Linnaeus_1758/3726799002.jpg.\n",
      "pfamily: 18 tfamily: 17 pgenus: 672 tgenus: 569 pspecies: 2191 tspecies: 1852 \n",
      "\n",
      "tensor(0.0228) tensor(0.8244)\n",
      "pfamily: 22 tfamily: 10 pgenus: 696 tgenus: 242 pspecies: 2191 tspecies: 796 \n",
      "\n",
      "tensor(0.0035) tensor(0.8507)\n",
      "pfamily: 18 tfamily: 16 pgenus: 672 tgenus: 443 pspecies: 2191 tspecies: 1565 \n",
      "\n",
      "tensor(0.) tensor(0.9788)\n",
      "pfamily: 18 tfamily: 16 pgenus: 672 tgenus: 534 pspecies: 2191 tspecies: 1773 \n",
      "\n",
      "tensor(0.) tensor(0.9251)\n",
      "pfamily: 18 tfamily: 8 pgenus: 672 tgenus: 398 pspecies: 2191 tspecies: 1435 \n",
      "\n",
      "tensor(0.) tensor(1.)\n",
      "pfamily: 18 tfamily: 16 pgenus: 672 tgenus: 671 pspecies: 2234 tspecies: 2136 \n",
      "\n",
      "tensor(0.0193) tensor(0.8160)\n",
      "pfamily: 18 tfamily: 14 pgenus: 696 tgenus: 550 pspecies: 2191 tspecies: 1811 \n",
      "\n",
      "tensor(0.0150) tensor(0.9228)\n"
     ]
    }
   ],
   "source": [
    "test = PlotPredictions(model, val, 8)"
   ]
  },
  {
   "cell_type": "code",
   "execution_count": 1,
   "metadata": {},
   "outputs": [
    {
     "ename": "NameError",
     "evalue": "name 'test' is not defined",
     "output_type": "error",
     "traceback": [
      "\u001b[0;31m---------------------------------------------------------------------------\u001b[0m",
      "\u001b[0;31mNameError\u001b[0m                                 Traceback (most recent call last)",
      "\u001b[0;32m<ipython-input-1-284688475c6b>\u001b[0m in \u001b[0;36m<module>\u001b[0;34m\u001b[0m\n\u001b[0;32m----> 1\u001b[0;31m \u001b[0mtimg\u001b[0m\u001b[0;34m,\u001b[0m \u001b[0mtlabels\u001b[0m\u001b[0;34m,\u001b[0m \u001b[0mtpred\u001b[0m \u001b[0;34m=\u001b[0m \u001b[0mtest\u001b[0m\u001b[0;34m\u001b[0m\u001b[0;34m\u001b[0m\u001b[0m\n\u001b[0m\u001b[1;32m      2\u001b[0m \u001b[0mtimg\u001b[0m \u001b[0;34m=\u001b[0m \u001b[0mtimg\u001b[0m\u001b[0;34m[\u001b[0m\u001b[0;36m0\u001b[0m\u001b[0;34m]\u001b[0m\u001b[0;34m\u001b[0m\u001b[0;34m\u001b[0m\u001b[0m\n\u001b[1;32m      3\u001b[0m \u001b[0mtlabels\u001b[0m \u001b[0;34m=\u001b[0m \u001b[0;34m[\u001b[0m\u001b[0mi\u001b[0m\u001b[0;34m[\u001b[0m\u001b[0;36m0\u001b[0m\u001b[0;34m]\u001b[0m\u001b[0;34m.\u001b[0m\u001b[0mitem\u001b[0m\u001b[0;34m(\u001b[0m\u001b[0;34m)\u001b[0m \u001b[0;32mfor\u001b[0m \u001b[0mi\u001b[0m \u001b[0;32min\u001b[0m \u001b[0mtlabels\u001b[0m\u001b[0;34m]\u001b[0m\u001b[0;34m\u001b[0m\u001b[0;34m\u001b[0m\u001b[0m\n\u001b[1;32m      4\u001b[0m \u001b[0mtpred\u001b[0m \u001b[0;34m=\u001b[0m \u001b[0;34m[\u001b[0m\u001b[0mi\u001b[0m\u001b[0;34m[\u001b[0m\u001b[0;36m0\u001b[0m\u001b[0;34m]\u001b[0m \u001b[0;32mfor\u001b[0m \u001b[0mi\u001b[0m \u001b[0;32min\u001b[0m \u001b[0mtpred\u001b[0m\u001b[0;34m]\u001b[0m\u001b[0;34m\u001b[0m\u001b[0;34m\u001b[0m\u001b[0m\n\u001b[1;32m      5\u001b[0m \u001b[0mtpred_label\u001b[0m \u001b[0;34m=\u001b[0m \u001b[0;34m[\u001b[0m\u001b[0mi\u001b[0m\u001b[0;34m.\u001b[0m\u001b[0margmax\u001b[0m\u001b[0;34m(\u001b[0m\u001b[0;34m)\u001b[0m\u001b[0;34m.\u001b[0m\u001b[0mitem\u001b[0m\u001b[0;34m(\u001b[0m\u001b[0;34m)\u001b[0m \u001b[0;32mfor\u001b[0m \u001b[0mi\u001b[0m \u001b[0;32min\u001b[0m \u001b[0mtpred\u001b[0m\u001b[0;34m]\u001b[0m\u001b[0;34m\u001b[0m\u001b[0;34m\u001b[0m\u001b[0m\n",
      "\u001b[0;31mNameError\u001b[0m: name 'test' is not defined"
     ]
    }
   ],
   "source": [
    "timg, tlabels, tpred = test\n",
    "timg = timg[0]\n",
    "tlabels = [i[0].item() for i in tlabels]\n",
    "tpred = [i[0] for i in tpred]\n",
    "tpred_label = [i.argmax().item() for i in tpred]\n",
    "tpred_readable = [train.dataset.idx_to_class[i][j] for i, j in enumerate(tpred_label)]\n",
    "treadable_labels = [train.dataset.idx_to_class[i][j] for i, j in enumerate(tlabels)]"
   ]
  },
  {
   "cell_type": "code",
   "execution_count": 156,
   "metadata": {},
   "outputs": [],
   "source": [
    "tmpred = [tpred[0]] + [torch.logsumexp(i.unsqueeze(1) + masks[dim].T, dim=0) for dim, i in enumerate(tpred) if dim != 2]\n",
    "tmpred_label = [i.argmax().item() for i in tmpred]\n",
    "tmpred_readable = [train.dataset.idx_to_class[i][j] for i, j in enumerate(tmpred_label)]"
   ]
  },
  {
   "cell_type": "code",
   "execution_count": 161,
   "metadata": {},
   "outputs": [
    {
     "name": "stdout",
     "output_type": "stream",
     "text": [
      "['Odontopera_bidentata_Clerck_1759', 'Odontopera', 'Geometridae']\n",
      "['Xestia_xanthographa_Denis_Schiffermller_1775', 'Timandra', 'Notodontidae']\n",
      "['Xestia_xanthographa_Denis_Schiffermller_1775', 'Xestia', 'Geometridae']\n"
     ]
    }
   ],
   "source": [
    "print(treadable_labels)\n",
    "print(tpred_readable)\n",
    "print(tmpred_readable)"
   ]
  },
  {
   "cell_type": "code",
   "execution_count": 160,
   "metadata": {},
   "outputs": [
    {
     "data": {
      "text/plain": [
       "['Odontopera_bidentata_Clerck_1759', 'Odontopera', 'Geometridae']"
      ]
     },
     "execution_count": 160,
     "metadata": {},
     "output_type": "execute_result"
    }
   ],
   "source": [
    "treadable_labels"
   ]
  }
 ],
 "metadata": {
  "kernelspec": {
   "display_name": "Python 3",
   "language": "python",
   "name": "python3"
  },
  "language_info": {
   "codemirror_mode": {
    "name": "ipython",
    "version": 3
   },
   "file_extension": ".py",
   "mimetype": "text/x-python",
   "name": "python",
   "nbconvert_exporter": "python",
   "pygments_lexer": "ipython3",
   "version": "3.8.10"
  }
 },
 "nbformat": 4,
 "nbformat_minor": 2
}
