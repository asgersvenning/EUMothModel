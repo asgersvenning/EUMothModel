{
 "cells": [
  {
   "cell_type": "code",
   "execution_count": 1,
   "metadata": {},
   "outputs": [
    {
     "name": "stderr",
     "output_type": "stream",
     "text": [
      "11/30/2023 10:33:35 - INFO - torch.distributed.nn.jit.instantiator -   Created a temporary directory at /tmp/tmp73_w84n4\n",
      "11/30/2023 10:33:35 - INFO - torch.distributed.nn.jit.instantiator -   Writing /tmp/tmp73_w84n4/_remote_module_non_scriptable.py\n"
     ]
    }
   ],
   "source": [
    "import torch\n",
    "from torchvision.io import read_image\n",
    "import torchvision\n",
    "\n",
    "import matplotlib as mpl\n",
    "import matplotlib.pyplot as plt\n",
    "import matplotlib.cm as cm\n",
    "import numpy as np\n",
    "from math import sqrt, ceil\n",
    "import os\n",
    "from tqdm import tqdm\n",
    "from copy import deepcopy\n",
    "\n",
    "import sahi.predict as predict\n",
    "\n",
    "# Import YOLOv5 helper functions\n",
    "os.chdir(\"/home/ucloud/EUMothModel\")\n",
    "from tutils.yolo_helpers import non_max_suppression\n",
    "from tutils.models import *"
   ]
  },
  {
   "cell_type": "code",
   "execution_count": 2,
   "metadata": {},
   "outputs": [],
   "source": [
    "dtype = torch.bfloat16\n",
    "device = torch.device(\"cuda\" if torch.cuda.is_available() else \"cpu\")"
   ]
  },
  {
   "cell_type": "code",
   "execution_count": 34,
   "metadata": {},
   "outputs": [
    {
     "data": {
      "text/plain": [
       "ExtendableModel_Hierarchical"
      ]
     },
     "execution_count": 34,
     "metadata": {},
     "output_type": "execute_result"
    }
   ],
   "source": [
    "# Model definition\n",
    "backbone = \"efficientnet_b0\"\n",
    "constructor = create_extendable_model_class(backbone_model=backbone)\n",
    "model = constructor(path=\"models/run166/epoch_9_batch_final.state\", device=device, dtype=dtype)\n",
    "model.eval()"
   ]
  },
  {
   "cell_type": "markdown",
   "metadata": {},
   "source": [
    "## Helper functions"
   ]
  },
  {
   "cell_type": "code",
   "execution_count": 4,
   "metadata": {},
   "outputs": [],
   "source": [
    "from sahi import ObjectPrediction, BoundingBox\n",
    "from sahi.postprocess.combine import GreedyNMMPostprocess, LSNMSPostprocess\n",
    "from sahi.prediction import visualize_object_predictions, PredictionScore\n",
    "\n",
    "def ObjectPrediction_to_yolov5_format(obj, num_classes):\n",
    "    # Extract bounding box and objectness score\n",
    "    bbox = obj.bbox.to_voc_bbox()  # Convert to [x_min, y_min, x_max, y_max]\n",
    "    x_center = (bbox[0] + bbox[2]) / 2\n",
    "    y_center = (bbox[1] + bbox[3]) / 2\n",
    "    width = bbox[2] - bbox[0]\n",
    "    height = bbox[3] - bbox[1]\n",
    "    objectness = obj.score.value\n",
    "\n",
    "    # One-hot encode the predicted class\n",
    "    class_id = obj.category.id\n",
    "    class_scores = [0] * num_classes\n",
    "    class_scores[class_id] = 1\n",
    "\n",
    "    # Combine into YOLOv5 format\n",
    "    yolov5_prediction = [x_center, y_center, width, height, objectness] + class_scores\n",
    "\n",
    "    return torch.tensor(yolov5_prediction)\n",
    "\n",
    "def convert_to_yolov5_format(object_predictions, num_classes):\n",
    "    \"\"\"\n",
    "    Convert a list of sahi.ObjectPrediction objects to YOLOv5 prediction format.\n",
    "\n",
    "    Args:\n",
    "    - object_predictions (List[sahi.ObjectPrediction]): List of object predictions.\n",
    "    - num_classes (int): Total number of classes.\n",
    "\n",
    "    Returns:\n",
    "    - List[List[float]]: Converted predictions in YOLOv5 format.\n",
    "    \"\"\"\n",
    "    yolov5_predictions = []\n",
    "\n",
    "    for prediction in object_predictions:\n",
    "        yolov5_predictions += [ObjectPrediction_to_yolov5_format(prediction, num_classes)]    \n",
    "\n",
    "    return torch.stack(yolov5_predictions)\n",
    "\n",
    "def convert_to_yolov5_batch_format(yolov5_list):\n",
    "    \"\"\"\n",
    "    Convert a list of YOLOv5 predictions to a batched YOLOv5 prediction.\n",
    "\n",
    "    Args:\n",
    "    - yolov5_list (List[List[float]]): List of YOLOv5 predictions.\n",
    "\n",
    "    Returns:\n",
    "    - torch.Tensor: Batched YOLOv5 prediction.\n",
    "    \"\"\"\n",
    "    return torch.concat(yolov5_list)\n",
    "\n",
    "def yolov5_to_ObjectPrediction(yp):\n",
    "    \"\"\"\n",
    "    Convert a YOLOv5 style output to a list of sahi.ObjectPrediction objects.\n",
    "\n",
    "    Args:\n",
    "    - yp (torch.Tensor): YOLOv5 style output. Torch.Tensor of shape (n_predictions, 5 + num_classes).\n",
    "    \"\"\"\n",
    "\n",
    "    object_predictions = []\n",
    "\n",
    "    for pred in yp:\n",
    "        x, y, w, h, obj = pred[:5]\n",
    "        class_scores = pred[5:]\n",
    "\n",
    "        # Convert to sahi.BoundingBox\n",
    "        x_min = x - w / 2\n",
    "        y_min = y - h / 2\n",
    "        x_max = x + w / 2\n",
    "        y_max = y + h / 2\n",
    "\n",
    "        # Convert to sahi.Category\n",
    "        category_id = class_scores.argmax().item()\n",
    "\n",
    "        this_obj = ObjectPrediction(\n",
    "            bbox=[x_min.item(), y_min.item(), x_max.item(), y_max.item()],\n",
    "            category_id=category_id,\n",
    "            category_name=\"salient_moth\",\n",
    "            score=obj.item()\n",
    "        )\n",
    "\n",
    "        object_predictions += [this_obj]\n",
    "\n",
    "    return object_predictions\n",
    "\n",
    "def plot_yolov5(yp, image, match_threshold=0.5, match_metric=\"IOS\",**kwargs):\n",
    "    object_predictions = yolov5_to_ObjectPrediction(yp)\n",
    "    postprocessor = GreedyNMMPostprocess(match_threshold=match_threshold, match_metric=match_metric)\n",
    "    object_predictions = postprocessor(object_predictions)\n",
    "    image = np.ascontiguousarray(read_image(image).numpy().transpose(1, 2, 0), dtype=np.uint8)\n",
    "\n",
    "    visualize_object_predictions(\n",
    "        object_prediction_list=object_predictions,\n",
    "        image=image,\n",
    "        **kwargs\n",
    "    )\n",
    "\n",
    "def plot_list(l, image, mult=None, slice_sizes=None, conf_threshold=0.75, match_threshold=0.5, match_metric=\"IOS\",**kwargs):\n",
    "    object_predictions = []\n",
    "    if mult is None:\n",
    "        mult = [1] * len(l)\n",
    "    for i, ol in enumerate(l):\n",
    "        tl = ol.object_prediction_list\n",
    "        tl = [op for op in tl if (op.score.value * mult[i]) >= conf_threshold]\n",
    "        if slice_sizes is not None:\n",
    "            tslice_area = slice_sizes[i] ** 2\n",
    "            tl = [op for op in tl if op.bbox.area <= (tslice_area * 0.5)]\n",
    "\n",
    "        object_predictions += tl\n",
    "    postprocessor = LSNMSPostprocess(match_threshold=match_threshold, match_metric=match_metric)\n",
    "    object_predictions = postprocessor(object_predictions)\n",
    "    image = np.ascontiguousarray(read_image(image).numpy().transpose(1, 2, 0), dtype=np.uint8)\n",
    "\n",
    "    visualize_object_predictions(\n",
    "        object_prediction_list=object_predictions,\n",
    "        image=image,\n",
    "        **kwargs\n",
    "    )\n",
    "\n",
    "    out = l[0]\n",
    "    out.object_prediction_list = object_predictions\n",
    "    return out\n",
    "\n",
    "def combine_and_nms(l, mult, slice_sizes, conf_threshold, match_metric, match_threshold):\n",
    "    object_predictions = []\n",
    "    if mult is None:\n",
    "        mult = [1] * len(l)\n",
    "    for i, ol in enumerate(l):\n",
    "        tl = ol.object_prediction_list\n",
    "        tl = [op for op in tl if (op.score.value * mult[i]) >= conf_threshold]\n",
    "        if slice_sizes is not None:\n",
    "            tslice_area = slice_sizes[i] ** 2\n",
    "            tl = [op for op in tl if op.bbox.area <= (tslice_area * 0.5)]\n",
    "\n",
    "        object_predictions += tl\n",
    "    postprocessor = LSNMSPostprocess(match_threshold=match_threshold, match_metric=match_metric)\n",
    "    object_predictions = postprocessor(object_predictions)\n",
    "\n",
    "    out = l[0]\n",
    "    out.object_prediction_list = object_predictions\n",
    "    return out"
   ]
  },
  {
   "cell_type": "markdown",
   "metadata": {},
   "source": [
    "## Augmentations"
   ]
  },
  {
   "cell_type": "code",
   "execution_count": 35,
   "metadata": {},
   "outputs": [
    {
     "name": "stderr",
     "output_type": "stream",
     "text": [
      "/home/ucloud/.local/lib/python3.8/site-packages/albumentations/augmentations/dropout/cutout.py:49: FutureWarning: Cutout has been deprecated. Please use CoarseDropout\n",
      "  warnings.warn(\n"
     ]
    }
   ],
   "source": [
    "import albumentations as A\n",
    "\n",
    "augment = A.Compose([\n",
    "    A.Cutout(num_holes=4, max_h_size=32, max_w_size=32, p=0.5),\n",
    "    A.GaussNoise(var_limit=(0.01, 0.05), p=0.5),\n",
    "    A.Rotate(limit=45, p=1.0, rotate_method=\"ellipse\"),\n",
    "    A.VerticalFlip(p=0.5)\n",
    "])"
   ]
  },
  {
   "cell_type": "markdown",
   "metadata": {},
   "source": [
    "## Model and hyperparameters"
   ]
  },
  {
   "cell_type": "code",
   "execution_count": 6,
   "metadata": {},
   "outputs": [],
   "source": [
    "# ## Hyperparameters\n",
    "skip = 0 # Number of batches to skip (used to resume script from a specific batch)\n",
    "batch_size = 8 # Batch size for chunked loading of images\n",
    "n_batches = 8 # Number of batches to load\n",
    "device = torch.device(\"cuda:0\" if torch.cuda.is_available() else \"cpu\")\n",
    "dtype=torch.bfloat16\n",
    "real_class_index = 0 # The real class index of the species to fine-tune on (6 for the initial model; insectGBIF-1280m6.pt)\n",
    "inference_size = 1280 # The size of the images to run inference on (1280 for the initial model; insectGBIF-1280m6.pt)\n",
    "image_directory = \"/home/ucloud/testCrops/Set5/\"\n",
    "\n",
    "model_weights = \"insect_iter7-1280m6.pt\"\n",
    "pass"
   ]
  },
  {
   "cell_type": "code",
   "execution_count": 7,
   "metadata": {},
   "outputs": [
    {
     "name": "stderr",
     "output_type": "stream",
     "text": [
      "11/30/2023 10:38:46 - INFO - numexpr.utils -   Note: NumExpr detected 10 cores but \"NUMEXPR_MAX_THREADS\" not set, so enforcing safe limit of 8.\n",
      "11/30/2023 10:38:46 - INFO - numexpr.utils -   NumExpr defaulting to 8 threads.\n"
     ]
    }
   ],
   "source": [
    "from sahi.predict import get_sliced_prediction\n",
    "from sahi import AutoDetectionModel\n",
    "\n",
    "detection_model = AutoDetectionModel.from_pretrained(\n",
    "    model_type='yolov5',\n",
    "    model_path=\"models/\" + model_weights,\n",
    "    config_path=\"models/custom5m.yaml\",\n",
    "    confidence_threshold=0.25,\n",
    "    device=device\n",
    ")"
   ]
  },
  {
   "cell_type": "code",
   "execution_count": 16,
   "metadata": {},
   "outputs": [],
   "source": [
    "images = [image_directory + os.sep + i for i in os.listdir(image_directory) if i.endswith(\".jpg\")]"
   ]
  },
  {
   "cell_type": "code",
   "execution_count": 17,
   "metadata": {},
   "outputs": [],
   "source": [
    "def get_image(path, size=inference_size):\n",
    "    image = read_image(path, mode=torchvision.io.image.ImageReadMode.RGB)\n",
    "    if size is not None:\n",
    "        image = torch.functional.F.interpolate(image.unsqueeze(0), size=size, mode=\"bilinear\")\n",
    "    else:\n",
    "        image = image.unsqueeze(0)\n",
    "    image = image.to(device,dtype=dtype)\n",
    "    return image"
   ]
  },
  {
   "cell_type": "code",
   "execution_count": 18,
   "metadata": {},
   "outputs": [],
   "source": [
    "tbatch = torch.cat([get_image(i, 256) for i in images], dim=0)"
   ]
  },
  {
   "cell_type": "code",
   "execution_count": 19,
   "metadata": {},
   "outputs": [
    {
     "data": {
      "text/plain": [
       "176"
      ]
     },
     "execution_count": 19,
     "metadata": {},
     "output_type": "execute_result"
    }
   ],
   "source": [
    "torch.cuda.empty_cache()\n",
    "# print(torch.cuda.memory_summary())\n",
    "torch.cuda.memory_allocated() // 10 ** 6"
   ]
  },
  {
   "cell_type": "code",
   "execution_count": 13,
   "metadata": {},
   "outputs": [],
   "source": [
    "# classifier_weights = list(model.classifier.parameters())\n",
    "\n",
    "# fig, axs = plt.subplots(1, len(classifier_weights), figsize=(20, 5))\n",
    "\n",
    "# for i, (ax, cw) in enumerate(zip(axs, classifier_weights)):\n",
    "#     ax.hist(cw.float().detach().cpu().numpy().flatten(), bins=100)\n",
    "#     ax.set_title(str(i))\n",
    "#     ax.yaxis.set_visible(False)"
   ]
  },
  {
   "cell_type": "code",
   "execution_count": 20,
   "metadata": {},
   "outputs": [
    {
     "data": {
      "text/plain": [
       "False"
      ]
     },
     "execution_count": 20,
     "metadata": {},
     "output_type": "execute_result"
    }
   ],
   "source": [
    "model.toggle_embeddings(True)"
   ]
  },
  {
   "cell_type": "code",
   "execution_count": 21,
   "metadata": {},
   "outputs": [],
   "source": [
    "with torch.no_grad():\n",
    "    # t = model(torchvision.models.get_model_weights(backbone).DEFAULT.transforms()(tbatch / 255).to(dtype))\n",
    "    predictions, emb = model.forward_flex(\n",
    "        torchvision.models.get_model_weights(backbone).DEFAULT.transforms()(tbatch / 255).to(dtype)\n",
    "    )"
   ]
  },
  {
   "cell_type": "code",
   "execution_count": 22,
   "metadata": {},
   "outputs": [
    {
     "data": {
      "text/plain": [
       "True"
      ]
     },
     "execution_count": 22,
     "metadata": {},
     "output_type": "execute_result"
    }
   ],
   "source": [
    "model.toggle_embeddings(False)"
   ]
  },
  {
   "cell_type": "code",
   "execution_count": 23,
   "metadata": {},
   "outputs": [
    {
     "data": {
      "text/plain": [
       "\n",
       "PREDICTION 0\n",
       "Level 0 : Hyphantria_cunea_Drury_1773, Confidence: 0.7%\n",
       "Level 1 : Idaea, Confidence: 5.0%\n",
       "Level 2 : Noctuidae, Confidence: 36.1%\n",
       "PREDICTION 1\n",
       "Level 0 : Idaea_rusticata_mustelata_Gumppenberg_1892, Confidence: 2.4%\n",
       "Level 1 : Idaea, Confidence: 6.4%\n",
       "Level 2 : Geometridae, Confidence: 46.5%\n",
       "PREDICTION 2\n",
       "Level 0 : Cerura_erminea_Esper_1783, Confidence: 0.9%\n",
       "Level 1 : Idaea, Confidence: 4.1%\n",
       "Level 2 : Noctuidae, Confidence: 35.7%\n",
       "PREDICTION 3\n",
       "Level 0 : Hyphantria_cunea_Drury_1773, Confidence: 0.6%\n",
       "Level 1 : Idaea, Confidence: 4.1%\n",
       "Level 2 : Noctuidae, Confidence: 36.7%\n",
       "PREDICTION 4\n",
       "Level 0 : Sphrageidus_similis_Fssly_1775, Confidence: 0.4%\n",
       "Level 1 : Idaea, Confidence: 4.0%\n",
       "Level 2 : Geometridae, Confidence: 36.7%\n",
       "PREDICTION 5\n",
       "Level 0 : Cerura_vinula_Linnaeus_1758, Confidence: 3.2%\n",
       "Level 1 : Cerura, Confidence: 4.3%\n",
       "Level 2 : Noctuidae, Confidence: 30.5%\n",
       "PREDICTION 6\n",
       "Level 0 : Eupithecia_succenturiata_Linnaeus_1758, Confidence: 3.3%\n",
       "Level 1 : Eupithecia, Confidence: 11.6%\n",
       "Level 2 : Geometridae, Confidence: 47.7%\n",
       "PREDICTION 7\n",
       "Level 0 : Sphrageidus_similis_Fssly_1775, Confidence: 0.8%\n",
       "Level 1 : Idaea, Confidence: 4.1%\n",
       "Level 2 : Geometridae, Confidence: 36.1%\n",
       "PREDICTION 8\n",
       "Level 0 : Sphrageidus_similis_Fssly_1775, Confidence: 1.0%\n",
       "Level 1 : Eupithecia, Confidence: 3.9%\n",
       "Level 2 : Geometridae, Confidence: 37.3%\n",
       "PREDICTION 9\n",
       "Level 0 : Sphrageidus_similis_Fssly_1775, Confidence: 0.5%\n",
       "Level 1 : Idaea, Confidence: 4.1%\n",
       "Level 2 : Geometridae, Confidence: 37.3%\n",
       "PREDICTION 10\n",
       "Level 0 : Spiris_striata_Linnaeus_1758, Confidence: 0.5%\n",
       "Level 1 : Idaea, Confidence: 5.2%\n",
       "Level 2 : Geometridae, Confidence: 37.1%\n",
       "PREDICTION 11\n",
       "Level 0 : Spiris_striata_Linnaeus_1758, Confidence: 1.7%\n",
       "Level 1 : Eupithecia, Confidence: 6.3%\n",
       "Level 2 : Geometridae, Confidence: 38.9%\n",
       "PREDICTION 12\n",
       "Level 0 : Eugnorisma_glareosa_Esper_1788, Confidence: 5.0%\n",
       "Level 1 : Eugnorisma, Confidence: 5.3%\n",
       "Level 2 : Noctuidae, Confidence: 33.0%\n",
       "PREDICTION 13\n",
       "Level 0 : Siona_lineata_Scopoli_1763, Confidence: 29.9%\n",
       "Level 1 : Siona, Confidence: 29.9%\n",
       "Level 2 : Geometridae, Confidence: 55.1%\n",
       "PREDICTION 14\n",
       "Level 0 : Anticlea_badiata_Denis_Schiffermller_1775, Confidence: 2.4%\n",
       "Level 1 : Anticlea, Confidence: 3.8%\n",
       "Level 2 : Noctuidae, Confidence: 40.4%\n",
       "PREDICTION 15\n",
       "Level 0 : Sphrageidus_similis_Fssly_1775, Confidence: 1.2%\n",
       "Level 1 : Idaea, Confidence: 3.5%\n",
       "Level 2 : Noctuidae, Confidence: 34.6%\n",
       "PREDICTION 16\n",
       "Level 0 : Amphipoea_crinanensis_Burrows_1908, Confidence: 0.7%\n",
       "Level 1 : Idaea, Confidence: 4.8%\n",
       "Level 2 : Noctuidae, Confidence: 37.3%\n",
       "PREDICTION 17\n",
       "Level 0 : Sphrageidus_similis_Fssly_1775, Confidence: 4.5%\n",
       "Level 1 : Sphrageidus, Confidence: 4.5%\n",
       "Level 2 : Geometridae, Confidence: 34.0%\n",
       "PREDICTION 18\n",
       "Level 0 : Zeuzera_pyrina_Linnaeus_1761, Confidence: 9.0%\n",
       "Level 1 : Zeuzera, Confidence: 9.0%\n",
       "Level 2 : Geometridae, Confidence: 38.5%\n",
       "PREDICTION 19\n",
       "Level 0 : Lomographa_bimaculata_Fabricius_1775, Confidence: 20.0%\n",
       "Level 1 : Lomographa, Confidence: 22.9%\n",
       "Level 2 : Geometridae, Confidence: 42.4%"
      ]
     },
     "execution_count": 23,
     "metadata": {},
     "output_type": "execute_result"
    }
   ],
   "source": [
    "model.forward_flex(\n",
    "        torchvision.models.get_model_weights(backbone).DEFAULT.transforms()(tbatch / 255).to(dtype),\n",
    "        argmax_translate=True\n",
    "    )"
   ]
  },
  {
   "cell_type": "code",
   "execution_count": 27,
   "metadata": {},
   "outputs": [
    {
     "data": {
      "image/png": "[encoded data removed]",
      "text/plain": [
       "<Figure size 432x288 with 1 Axes>"
      ]
     },
     "metadata": {
      "needs_background": "light"
     },
     "output_type": "display_data"
    }
   ],
   "source": [
    "plt.figure()\n",
    "for i in range(len(tbatch)):\n",
    "    plt.gca().plot(predictions[0][i].cpu().float().numpy(), alpha=0.5)\n",
    "plt.show()"
   ]
  },
  {
   "cell_type": "code",
   "execution_count": 36,
   "metadata": {},
   "outputs": [],
   "source": [
    "import types\n",
    "\n",
    "def augment_float_tensor(x):\n",
    "    tx = x.clone()\n",
    "    tx = tx.permute(1, 2, 0).cpu().numpy()\n",
    "    tx = augment(image=tx)['image']\n",
    "    tx = torch.tensor(tx).permute(2, 0, 1).to(device, dtype=dtype)\n",
    "    return tx\n",
    "\n",
    "def do_define_call_with_augment(model):\n",
    "    old_call = model.__call__\n",
    "    _dtype = model.parameters().__next__().dtype\n",
    "    _device = model.parameters().__next__().device\n",
    "\n",
    "    def call_with_augment(self, x, do_augment=False, n=3, **kwargs):\n",
    "        if do_augment:\n",
    "            xs = []\n",
    "            for tx in x:\n",
    "                xs += [torch.stack([tx.clone()] + [augment_float_tensor(tx.float()).to(_dtype) for _ in range(n)])]\n",
    "            xs = torch.stack(xs)\n",
    "            xs = xs.to(device=_device, dtype=_dtype)\n",
    "            if len(xs.shape) > 4:\n",
    "                augment_preds = [old_call(xsi, **kwargs) for xsi in xs]\n",
    "                if self.return_embeddings:\n",
    "                    augment_embeddings = torch.stack([ap[1].mean(0) for ap in augment_preds])\n",
    "                    augment_preds = [ap[0] for ap in augment_preds]\n",
    "                combine_pred = [torch.stack([torch.stack([ap[i][j] for j in range(n + 1)]).log_softmax(1) for ap in augment_preds]) for i in range(len(augment_preds[0]))]\n",
    "                single_pred = [torch.stack([(j.float().logsumexp(0) - torch.log(torch.tensor(j.shape[0])).to(j.dtype).to(j.device)).log_softmax(0) for j in combine_pred[i]]) for i in range(len(combine_pred))]\n",
    "            else:\n",
    "                augment_preds = old_call(xs, **kwargs)\n",
    "                if self.return_embeddings:\n",
    "                    augment_embeddings = augment_preds[1].mean(0)\n",
    "                    augment_preds = augment_preds[0]\n",
    "                combine_pred = [torch.cat([ap[i] for ap in augment_preds]).log_softmax(0) for i in range(len(augment_preds[0]))]\n",
    "                single_pred = [(j.float().logsumexp(0) - torch.log(torch.tensor(j.shape[0])).to(j.dtype).to(j.device)).log_softmax(0) for j in combine_pred]\n",
    "            if self.return_embeddings:\n",
    "                return single_pred, augment_embeddings\n",
    "            else:\n",
    "                return single_pred\n",
    "        else:\n",
    "            return old_call(x, **kwargs)\n",
    "\n",
    "    model.__call__ = types.MethodType(call_with_augment, model)\n",
    "    return model\n",
    "\n",
    "model = do_define_call_with_augment(model)"
   ]
  },
  {
   "cell_type": "code",
   "execution_count": 29,
   "metadata": {},
   "outputs": [],
   "source": [
    "weights = torchvision.models.get_model_weights(backbone).DEFAULT\n",
    "class create_image_preprocessing:\n",
    "    def __init__(self, weights):\n",
    "        self.transform = weights.transforms(antialias=True)\n",
    "        self.isize = self.transform.resize_size[0]\n",
    "        self.mean = self.transform.mean\n",
    "        self.std = self.transform.std\n",
    "\n",
    "    def __call__(self, images):\n",
    "        \"\"\"Preprocess images for EfficientNet.\"\"\"\n",
    "        images = torchvision.transforms.Resize((self.isize, self.isize), antialias=True)(images)\n",
    "        return self.transform(images)\n",
    "\n",
    "image_preprocessing = create_image_preprocessing(weights)"
   ]
  },
  {
   "cell_type": "code",
   "execution_count": 30,
   "metadata": {},
   "outputs": [],
   "source": [
    "def shannon_entropy(t):\n",
    "    \"\"\"\n",
    "    This function computes the row-wise Shannon entropy of a tensor.\n",
    "    \n",
    "    Args:\n",
    "    - t (torch.Tensor): Input tensor of shape (n, m).\n",
    "\n",
    "    Returns:\n",
    "    - torch.Tensor: Row-wise Shannon entropy of shape (n,).\n",
    "    \"\"\"\n",
    "\n",
    "    return (-t * torch.log2(t)).sum(1)"
   ]
  },
  {
   "cell_type": "code",
   "execution_count": 31,
   "metadata": {},
   "outputs": [],
   "source": [
    "import re\n",
    "\n",
    "def bbox_predict(model, output, image, epistemic_threshold=2, background_threshold=0.3, transform=None, **kwargs):\n",
    "    _dtype = model.parameters().__next__().dtype\n",
    "    _device = model.parameters().__next__().device\n",
    "\n",
    "    # print(f'dtype: {_dtype}')\n",
    "    # print(f'device: {_device}')\n",
    "\n",
    "    # Convert SAHI output to to torch.Tensor of shape (n, 4) with xmin, ymin, xmax, ymax for each bounding box\n",
    "    tensor_bboxes = torch.tensor([list(i.bbox.__dict__.values())[:4] for i in output.object_prediction_list]).round().float().to(device=_device)\n",
    "    tensor_image = get_image(image, size=None).float().to(device=_device)\n",
    "\n",
    "    untransformed_inputs = torchvision.ops.roi_align(tensor_image, [tensor_bboxes], output_size=(256, 256))\n",
    "    if transform is not None:\n",
    "        inputs = transform(untransformed_inputs)\n",
    "    inputs = inputs.to(device=_device, dtype=_dtype)\n",
    "    # print(f'inputs - shape: {inputs.shape} - dtype: {inputs.dtype} - device: {inputs.device}')\n",
    "\n",
    "    model_uses_embeddings = model.toggle_embeddings(True)\n",
    "    with torch.no_grad():\n",
    "        crop_pred, crop_embeddings = model.__call__(inputs, **kwargs)\n",
    "\n",
    "    max_scores = torch.stack([crop_pred[i].max(1).values for i in range(3)])\n",
    "    score_multiplier = max_scores.T.diff(1).exp()\n",
    "    best_level = [torch.where(i)[0].max().item() + 1 if any(i) else 0 for i in (score_multiplier > epistemic_threshold)]\n",
    "\n",
    "    predicted_class, predicted_class_name, prediction_confidence = [], [], []\n",
    "    for i in range(len(inputs)):\n",
    "        this_scores = crop_pred[best_level[i]][i]\n",
    "        this_predicted_class = int(this_scores.argmax(0).int().cpu().numpy())\n",
    "        this_predicted_class_name = model.class_handles[\"idx_to_class\"][best_level[i]][this_predicted_class]\n",
    "        this_prediction_confidence = this_scores.max(0).values.exp().float().cpu().numpy()\n",
    "\n",
    "        predicted_class += [this_predicted_class]\n",
    "        predicted_class_name += [this_predicted_class_name] if this_prediction_confidence > background_threshold else [\"background\"]\n",
    "        prediction_confidence += [this_prediction_confidence]\n",
    "\n",
    "    # Sort by class and confidence\n",
    "    order = np.lexsort((prediction_confidence, predicted_class))\n",
    "    untransformed_inputs = untransformed_inputs[order]\n",
    "    predicted_class = [predicted_class[i] for i in order]\n",
    "    predicted_class_name = [predicted_class_name[i] for i in order]\n",
    "    prediction_confidence = [prediction_confidence[i] for i in order]\n",
    "    crop_embeddings = crop_embeddings[order]\n",
    "    best_level = [best_level[i] for i in order]\n",
    "\n",
    "    # Restore model state\n",
    "    model.toggle_embeddings(model_uses_embeddings)\n",
    "\n",
    "    # Return the cropped tensors, predicted class level, predicted class index, predicted class name, and prediction confidence\n",
    "    return untransformed_inputs, best_level, predicted_class, predicted_class_name, prediction_confidence, crop_embeddings\n",
    "\n",
    "def plot_batch_predict(images, labels, conf, output_file=\"sahi/plots/crops.png\", mixed=True):\n",
    "    if mixed:\n",
    "        # Check if there are any background predictions\n",
    "        if \"background\" in labels:\n",
    "            print(\"Background\")\n",
    "            images_background = torch.stack([i for i, l in zip(images, labels) if l == \"background\"])\n",
    "            labels_background = [l for l in labels if l == \"background\"]\n",
    "            conf_background = [c for c, l in zip(conf, labels) if l == \"background\"]\n",
    "            plot_batch_predict(images_background, labels_background, conf_background, output_file=output_file.replace(\".png\", \"_background.png\"), mixed=False)\n",
    "\n",
    "        # Check if there are any salient predictions\n",
    "        if any([l != \"background\" for l in labels]):\n",
    "            print(\"Salient\")\n",
    "            images_salient = torch.stack([i for i, l in zip(images, labels) if l != \"background\"])\n",
    "            labels_salient = [l for l in labels if l != \"background\"]\n",
    "            conf_salient = [c for c, l in zip(conf, labels) if l != \"background\"]\n",
    "            plot_batch_predict(images_salient, labels_salient, conf_salient, output_file=output_file.replace(\".png\", \"_salient.png\"), mixed=False)\n",
    "    else:\n",
    "        # plot crops for debugging\n",
    "        ncol = int(sqrt(len(images)))\n",
    "        nrow = ceil(len(images) / ncol)\n",
    "        assert ncol * nrow >= len(images)\n",
    "\n",
    "        fig, axs = plt.subplots(nrow, ncol, figsize=(ncol * 2, nrow * 2))\n",
    "        if (nrow, ncol) == (1, 1):\n",
    "            axs = [axs]\n",
    "        else:\n",
    "            axs = axs.ravel()\n",
    "\n",
    "        for ax, crop, p, s in zip(axs, images.int().cpu(), labels, conf):\n",
    "            ax.imshow(crop.cpu().numpy().transpose(1, 2, 0))\n",
    "            p = re.search(r\"^[^_]+(_[^_]+){0,1}\", p).group(0) if p != \"background\" else p\n",
    "            p = p.replace(\"_\", \"\\n\")\n",
    "            ax.set_title(f\"{p}\\n({100 * s:.1f}%)\")\n",
    "            ax.axis(\"off\")\n",
    "        # Set unused axes to invisible\n",
    "        for ax in axs[len(images):]:\n",
    "            ax.axis(\"off\")\n",
    "            ax.set_visible(False)\n",
    "\n",
    "        plt.tight_layout()\n",
    "        fig.patch.set_facecolor(\"white\")\n",
    "        plt.savefig(output_file, dpi=300)\n",
    "        plt.close()"
   ]
  },
  {
   "cell_type": "code",
   "execution_count": 32,
   "metadata": {},
   "outputs": [
    {
     "name": "stderr",
     "output_type": "stream",
     "text": [
      "Processing image 1 of 20 (SS2 - 20230626030000-167-snapshot.jpg):   0%|          | 0/20 [00:00<?, ?it/s]11/30/2023 10:41:29 - WARNING - sahi.postprocess.combine -   LSNMSPostprocess is experimental and not recommended to use.\n"
     ]
    },
    {
     "name": "stdout",
     "output_type": "stream",
     "text": [
      "Salient\n"
     ]
    },
    {
     "name": "stderr",
     "output_type": "stream",
     "text": [
      "Processing image 1 of 20 (SS2 - 20230626030000-167-snapshot.jpg):   5%|▌         | 1/20 [00:27<08:40, 27.38s/it]\n"
     ]
    }
   ],
   "source": [
    "slice_sizes = np.arange(256, 512 + 1, 128).tolist()\n",
    "\n",
    "pbar = tqdm(enumerate([images[0]]), total=len(images))\n",
    "\n",
    "for image_idx, this_image in pbar:\n",
    "    pbar.set_description(f\"Processing image {image_idx + 1} of {len(images)} ({this_image.split(os.sep)[-1]})\")\n",
    "    torch.cuda.empty_cache()\n",
    "    # Perform localization on the image\n",
    "    these_predictions = [\n",
    "        get_sliced_prediction(\n",
    "        this_image,\n",
    "        detection_model,\n",
    "        slice_height=i,\n",
    "        slice_width=i,\n",
    "        perform_standard_pred=False,\n",
    "        postprocess_type=\"GREEDYNMM\",\n",
    "        postprocess_match_threshold=1,\n",
    "        overlap_height_ratio=0.25,\n",
    "        overlap_width_ratio=0.25,\n",
    "        verbose=0\n",
    "        )\n",
    "        for i in slice_sizes\n",
    "    ]\n",
    "\n",
    "    # Combine predictions\n",
    "    this_combined_prediction = combine_and_nms(these_predictions, None, slice_sizes, 0.8, \"IOS\", 0.1)\n",
    "\n",
    "    # Perform bounding box classification\n",
    "    crops, plevel, pclass, pclass_name, pconfidence, embeddings = bbox_predict(\n",
    "        model, this_combined_prediction, this_image, \n",
    "        epistemic_threshold=10,\n",
    "        background_threshold=0, \n",
    "        transform=lambda x : image_preprocessing(x / 255.0),\n",
    "        do_augment=False,\n",
    "        n=25\n",
    "    )\n",
    "\n",
    "    # Plot the crops\n",
    "    this_image_name = this_image.split(os.sep)[-1].split(\".\")[0]\n",
    "    plot_batch_predict(crops, pclass_name, pconfidence, output_file=f\"sahi/inference/{this_image_name}.png\")"
   ]
  },
  {
   "cell_type": "code",
   "execution_count": 38,
   "metadata": {},
   "outputs": [
    {
     "name": "stdout",
     "output_type": "stream",
     "text": [
      "Salient\n"
     ]
    }
   ],
   "source": [
    "# Perform bounding box classification\n",
    "crops, plevel, pclass, pclass_name, pconfidence, embeddings = bbox_predict(\n",
    "    model, this_combined_prediction, this_image, \n",
    "    epistemic_threshold=10,\n",
    "    background_threshold=0, \n",
    "    transform=lambda x : image_preprocessing(x / 255.0),\n",
    "    do_augment=False,\n",
    "    n=25\n",
    ")\n",
    "\n",
    "# Plot the crops\n",
    "this_image_name = this_image.split(os.sep)[-1].split(\".\")[0]\n",
    "plot_batch_predict(crops, pclass_name, pconfidence, output_file=f\"sahi/inference/{this_image_name}.png\")"
   ]
  },
  {
   "cell_type": "code",
   "execution_count": 25,
   "metadata": {},
   "outputs": [],
   "source": [
    "import matplotlib as mpl\n",
    "\n",
    "plt.close()\n",
    "\n",
    "fig, axs = plt.subplots(6, 6, figsize=(24, 24))\n",
    "\n",
    "for i, (ax, crop, p, s) in enumerate(zip(axs.flatten(), crops[:36].int().cpu(), pclass_name, pconfidence)):\n",
    "    ax.imshow(crop.cpu().numpy().transpose(1, 2, 0))\n",
    "    p = re.search(r\"^[^_]+(_[^_]+){0,1}\", p).group(0) if s > 0.1 else \"background\"\n",
    "    p = p.replace(\"_\", \"\\n\")\n",
    "    ax.set_title(f\"{p}\\n({100 * s:.1f}%) - {i}\")\n",
    "    ax.axis(\"off\")\n",
    "\n",
    "plt.tight_layout()\n",
    "fig.patch.set_facecolor(\"white\")\n",
    "plt.savefig(\"sahi/inference/crops.png\", dpi=300)\n",
    "plt.close()"
   ]
  },
  {
   "cell_type": "code",
   "execution_count": 51,
   "metadata": {},
   "outputs": [
    {
     "data": {
      "text/plain": [
       "<matplotlib.image.AxesImage at 0x7f8d707d1160>"
      ]
     },
     "execution_count": 51,
     "metadata": {},
     "output_type": "execute_result"
    },
    {
     "data": {
      "image/png": "[encoded data removed]",
      "text/plain": [
       "<Figure size 432x288 with 1 Axes>"
      ]
     },
     "metadata": {
      "needs_background": "light"
     },
     "output_type": "display_data"
    }
   ],
   "source": [
    "orig_do_augment = model.toggle_embeddings(True)\n",
    "\n",
    "with torch.no_grad():\n",
    "    test_crop = crops[-8].clone()\n",
    "\n",
    "    test_crop = test_crop / 255.0\n",
    "    test_crop = image_preprocessing(test_crop)\n",
    "    tout, temb = model.__call__(test_crop.unsqueeze(0).to(dtype), do_augment=True, n = 25)\n",
    "\n",
    "model.toggle_embeddings(orig_do_augment)\n",
    "\n",
    "test_crop_img = test_crop - test_crop.min()\n",
    "test_crop_img = test_crop_img / test_crop_img.max()\n",
    "plt.imshow(test_crop_img.cpu().permute(1, 2, 0).numpy())"
   ]
  },
  {
   "cell_type": "code",
   "execution_count": 52,
   "metadata": {},
   "outputs": [
    {
     "data": {
      "image/png": "[encoded data removed]",
      "text/plain": [
       "<Figure size 1440x720 with 1 Axes>"
      ]
     },
     "metadata": {
      "needs_background": "light"
     },
     "output_type": "display_data"
    }
   ],
   "source": [
    "plt.figure(figsize=(20, 10))\n",
    "# Viridis\n",
    "cmap = mpl.colormaps['viridis']\n",
    "# Calculate values to use for colors\n",
    "values_for_colormap = torch.where(model.classifier.masks[0] > -1)[0].cpu() / model.classifier.masks[0].shape[0]\n",
    "# Map to colors\n",
    "colors = [cmap(i.item()) for i in values_for_colormap]\n",
    "# Convert to RGB\n",
    "colors = [mpl.colors.to_rgb(i) for i in colors]\n",
    "# Convert to hex\n",
    "colors = [mpl.colors.to_hex(i) for i in colors]\n",
    "# Calculate heights (y-values)\n",
    "ys = tout[0].cpu().float().squeeze(0)\n",
    "ys10 = ys / torch.log(torch.tensor(10.0)).to(ys.dtype).to(ys.device)\n",
    "# Arrange x-values\n",
    "xs = np.arange(ys.shape[0])\n",
    "# Plot\n",
    "plt.bar(\n",
    "    x       =   xs, \n",
    "    height  =   ys.exp(),\n",
    "    width   =   1,\n",
    "    color   =   colors,\n",
    ")\n",
    "plt.yscale(\"log\")\n",
    "plt.gca().set_yticks(torch.logspace(ys10.min().floor(), ys10.max().ceil(), 10), minor=False, labels=[f\"1e{torch.log10(i):.2f}\" for i in torch.logspace(ys10.min().floor(), ys10.max().ceil(), 10)])\n",
    "plt.tight_layout()\n",
    "plt.show()"
   ]
  },
  {
   "cell_type": "code",
   "execution_count": 87,
   "metadata": {},
   "outputs": [
    {
     "name": "stdout",
     "output_type": "stream",
     "text": [
      "Time taken: 23.19 seconds\n"
     ]
    },
    {
     "data": {
      "text/plain": [
       "True"
      ]
     },
     "execution_count": 87,
     "metadata": {},
     "output_type": "execute_result"
    }
   ],
   "source": [
    "import time\n",
    "\n",
    "orig_do_augment = model.toggle_embeddings(True)\n",
    "\n",
    "with torch.no_grad():\n",
    "    test_crop = crops.clone()\n",
    "\n",
    "    test_crop = test_crop / 255.0\n",
    "    test_crop = image_preprocessing(test_crop)\n",
    "    start_time = time.time()\n",
    "    # tout, temb = model(test_crop.to(dtype))\n",
    "    tout, temb = model.__call__(test_crop.to(dtype), do_augment=False, n = 25)\n",
    "    end_time = time.time()\n",
    "\n",
    "print(f\"Time taken: {end_time - start_time:.2f} seconds\")\n",
    "\n",
    "model.toggle_embeddings(orig_do_augment)"
   ]
  },
  {
   "cell_type": "code",
   "execution_count": 88,
   "metadata": {},
   "outputs": [],
   "source": [
    "plt.close()\n",
    "\n",
    "plt.figure(figsize=(12, 6))\n",
    "ax = plt.gca()\n",
    "plt.imshow(tout[0].exp().float().cpu().numpy(), interpolation=\"nearest\", cmap=\"magma\", norm=mpl.colors.LogNorm())\n",
    "ax.set_aspect(\"auto\")\n",
    "\n",
    "plt.colorbar()\n",
    "\n",
    "plt.tight_layout()\n",
    "# Set background to white\n",
    "ax.patch.set_alpha(1)\n",
    "ax.patch.set_facecolor(\"white\")\n",
    "plt.savefig(\"sahi/plots/test1.png\", dpi=300)\n",
    "plt.close()"
   ]
  },
  {
   "cell_type": "code",
   "execution_count": 89,
   "metadata": {},
   "outputs": [],
   "source": [
    "plt.close()\n",
    "\n",
    "plt.figure(figsize=(12, 6))\n",
    "plt.scatter(*torch.pca_lowrank(tout[0].float(), 2)[0].cpu().numpy().transpose())\n",
    "plt.gca().set_aspect(\"equal\")\n",
    "\n",
    "plt.tight_layout()\n",
    "plt.savefig(\"sahi/plots/test2.png\", dpi=300)\n",
    "plt.close()"
   ]
  },
  {
   "cell_type": "code",
   "execution_count": 39,
   "metadata": {},
   "outputs": [
    {
     "data": {
      "text/plain": [
       "['Acherontia_atropos_Linnaeus_1758 (64.5%)',\n",
       " 'Pterostoma_palpina_Clerck_1759 (1.9%)',\n",
       " 'Allophyes_oxyacanthae_Linnaeus_1758 (23.5%)',\n",
       " 'Aplocera_praeformata_Hbner (2.4%)',\n",
       " 'Catocala_hymenaea_Denis_Schiffermller_1775 (3.5%)',\n",
       " 'Coranarta_cordigera_Thunberg_1788 (5.6%)',\n",
       " 'Coscinia_cribraria_Linnaeus_1758 (43.9%)',\n",
       " 'Coscinia_cribraria_Linnaeus_1758 (57.0%)',\n",
       " 'Drepana_falcataria_Linnaeus_1758 (98.0%)',\n",
       " 'Eilema_lutarella_Linnaeus_1758 (9.8%)',\n",
       " 'Eilema_lutarella_Linnaeus_1758 (38.5%)',\n",
       " 'Euplexia_lucipara_Linnaeus_1758 (8.0%)',\n",
       " 'Hyles_euphorbiae_Linnaeus_1758 (13.6%)',\n",
       " 'Hyles_livornica_Esper_1780 (13.1%)',\n",
       " 'Idaea_trigeminata_Haworth_1809 (23.5%)',\n",
       " 'Lymantria_monacha_Linnaeus_1758 (31.1%)',\n",
       " 'Marumba_quercus_Denis_Schiffermller_1775 (23.3%)',\n",
       " 'Nycteola_revayana_Scopoli_1772 (45.5%)',\n",
       " 'Pachycnemia_hippocastanaria_Hbner_1799 (66.8%)',\n",
       " 'Phragmataecia_castaneae_Hbner_1790 (25.4%)',\n",
       " 'Phragmataecia_castaneae_Hbner_1790 (75.8%)',\n",
       " 'Schrankia_costaestrigalis_Stephens_1834 (27.0%)',\n",
       " 'Venusia_cambrica_Curtis_1839 (10.2%)']"
      ]
     },
     "execution_count": 39,
     "metadata": {},
     "output_type": "execute_result"
    }
   ],
   "source": [
    "[f'{model.class_handles[\"idx_to_class\"][0][i.argmax(0).int().item()]} ({i.max().exp().item() * 100:.1f}%)' for i in tout[0]]"
   ]
  },
  {
   "cell_type": "code",
   "execution_count": 40,
   "metadata": {},
   "outputs": [
    {
     "data": {
      "text/plain": [
       "[<matplotlib.lines.Line2D at 0x7f8d70aefac0>]"
      ]
     },
     "execution_count": 40,
     "metadata": {},
     "output_type": "execute_result"
    },
    {
     "data": {
      "image/png": "[encoded data removed]",
      "text/plain": [
       "<Figure size 432x288 with 1 Axes>"
      ]
     },
     "metadata": {
      "needs_background": "light"
     },
     "output_type": "display_data"
    }
   ],
   "source": [
    "plt.plot(embeddings.mean(0).cpu().float())"
   ]
  },
  {
   "cell_type": "code",
   "execution_count": 92,
   "metadata": {},
   "outputs": [
    {
     "data": {
      "image/png": "[encoded data removed]",
      "text/plain": [
       "<Figure size 360x360 with 1 Axes>"
      ]
     },
     "metadata": {
      "needs_background": "light"
     },
     "output_type": "display_data"
    }
   ],
   "source": [
    "# crop_ord = torch.pca_lowrank(test_crop_inf[1].float(), 2)[0]\n",
    "# Try umap for testing\n",
    "import umap\n",
    "import matplotlib as mpl\n",
    "crop_ord = umap.UMAP(\n",
    "    n_components=2, \n",
    "    metric = \"euclidean\", \n",
    "    min_dist = 0.05, \n",
    "    n_neighbors = 15\n",
    ").fit_transform(\n",
    "    # embeddings.float().cpu()  \n",
    "    (embeddings / embeddings.sum(1, keepdim=True)).float().cpu()\n",
    ")\n",
    "crop_ord = torch.tensor(crop_ord)\n",
    "\n",
    "plt.figure(figsize=(5, 5))\n",
    "plt.scatter(*crop_ord.cpu().T)\n",
    "plt.savefig(\"sahi/plots/crop_pca.png\", dpi=300)\n",
    "\n",
    "# Plot each crop at the PCA coordinates, in a sort of \"scatterplot\" of the crops\n",
    "from matplotlib.offsetbox import OffsetImage, AnnotationBbox\n",
    "\n",
    "crop_ord_screen_coords = crop_ord.clone()\n",
    "crop_ord_screen_coords -= crop_ord_screen_coords.min(0, keepdim=True).values\n",
    "crop_ord_screen_coords /= crop_ord_screen_coords.max(0, keepdim=True).values\n",
    "\n",
    "plt.figure(figsize=(30, 30))\n",
    "ax = plt.gca()\n",
    "\n",
    "# define colormap for classes\n",
    "cmap = mpl.colormaps['tab20']\n",
    "norm = mpl.colors.Normalize(vmin=0, vmax=len(set(pclass_name)))\n",
    "cmap = mpl.cm.ScalarMappable(norm=norm, cmap=cmap)\n",
    "\n",
    "for i, (x, y) in enumerate(crop_ord_screen_coords.cpu()):\n",
    "    image = crops[i].int().cpu().numpy().transpose(1, 2, 0)\n",
    "    conf = pconfidence[i].item()  # Prediction confidence\n",
    "\n",
    "    # Adjust the alpha of the image based on the confidence\n",
    "    im = OffsetImage(image, zoom=0.25, alpha=1)  # Adjust zoom as needed\n",
    "    box_color = list(cmap.to_rgba(pclass[i])) if pclass_name[i] != \"background\" else [0, 0, 0, 0]\n",
    "    box_color[3] = conf  # Adjust alpha based on confidence\n",
    "\n",
    "    # Create an annotation box with adjusted alpha for the border\n",
    "    bboxprops = dict(edgecolor=box_color, linewidth=3)  # Add confidence to the RGBA tuple\n",
    "    ab = AnnotationBbox(im, (x, y), xycoords='data', frameon=True, pad=0.1, boxcoords=\"offset points\", bboxprops=bboxprops)\n",
    "    ax.add_artist(ab)\n",
    "\n",
    "    # Extract and format the box label\n",
    "    box_label = re.search(r\"^[^_]+(_[^_]+){0,1}\", pclass_name[i]).group(0)\n",
    "    box_label = box_label.replace(\"_\", \"\\n\")\n",
    "\n",
    "    # Adjust these parameters to position the annotation above the box\n",
    "    text_offset = 20  # Adjust this value as needed\n",
    "    # Adjust the alpha of the text and its background based on confidence\n",
    "    if pclass_name[i] != \"background\":\n",
    "        ax.annotate(box_label, (x, y), xycoords='data', xytext=(0, text_offset), textcoords='offset points', ha=\"center\", va=\"bottom\", fontsize=12, color=\"black\", bbox=dict(boxstyle=\"round\", fc=box_color, ec=\"none\", alpha=conf))\n",
    "\n",
    "plt.savefig(\"sahi/plots/crop_pca_scatter.png\", dpi=300)\n",
    "plt.close()"
   ]
  }
 ],
 "metadata": {
  "kernelspec": {
   "display_name": "Python 3",
   "language": "python",
   "name": "python3"
  },
  "language_info": {
   "codemirror_mode": {
    "name": "ipython",
    "version": 3
   },
   "file_extension": ".py",
   "mimetype": "text/x-python",
   "name": "python",
   "nbconvert_exporter": "python",
   "pygments_lexer": "ipython3",
   "version": "3.8.10"
  }
 },
 "nbformat": 4,
 "nbformat_minor": 2
}
